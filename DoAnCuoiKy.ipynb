{
 "cells": [
  {
   "cell_type": "markdown",
   "metadata": {},
   "source": [
    "# Đồ án cuối kỳ - Môn Lập trình khoa học dữ liệu\n",
    "# Giáo viên giảng dạy: Thầy Trần Trung Kiên\n",
    "## Sinh viên thực hiện:\n",
    "\n",
    "Tạ Võ Anh Khuê - 19120551\n",
    "\n",
    "Nguyễn Minh Long - 19120568"
   ]
  },
  {
   "cell_type": "markdown",
   "metadata": {},
   "source": [
    "---"
   ]
  },
  {
   "cell_type": "markdown",
   "metadata": {},
   "source": [
    "## Cách làm bài và nộp bài (bạn cần đọc kỹ)"
   ]
  },
  {
   "cell_type": "markdown",
   "metadata": {},
   "source": [
    "&#9889; Bạn lưu ý là mình sẽ dùng chương trình hỗ trợ chấm bài nên bạn cần phải tuân thủ chính xác qui định mà mình đặt ra, nếu không rõ thì hỏi, chứ không nên tự tiện làm theo ý của cá nhân.\n",
    "\n",
    "**Cách làm bài**\n",
    "\n",
    "Bạn sẽ làm trực tiếp trên file notebook này. Đầu tiên, bạn điền họ tên và MSSV vào phần đầu file ở bên trên. Trong file, bạn làm bài ở những chỗ có ghi là:\n",
    "```python\n",
    "# YOUR CODE HERE\n",
    "raise NotImplementedError()\n",
    "```\n",
    "hoặc đối với những phần code không bắt buộc thì là:\n",
    "```python\n",
    "# YOUR CODE HERE (OPTION)\n",
    "```\n",
    "hoặc đối với markdown cell thì là:\n",
    "```markdown\n",
    "YOUR ANSWER HERE\n",
    "```\n",
    "Tất nhiên, khi làm thì bạn xóa dòng `raise NotImplementedError()` đi.\n",
    "Đối những phần yêu cầu code thì thường ở ngay phía dưới sẽ có một (hoặc một số) cell chứa các bộ test để giúp bạn biết đã code đúng hay chưa; nếu chạy cell này không có lỗi gì thì có nghĩa là qua được các bộ test. Trong một số trường hợp, các bộ test có thể sẽ không đầy đủ; nghĩa là, nếu không qua được test thì là code sai, nhưng nếu qua được test thì chưa chắc đã đúng.\n",
    "\n",
    "Trong khi làm bài, bạn có thể cho in ra màn hình, tạo thêm các cell để test. Nhưng khi nộp bài thì bạn xóa các cell mà bạn tự tạo, xóa hoặc comment các câu lệnh in ra màn hình. Bạn lưu ý <font color=red>không được tự tiện xóa các cell hay sửa code của Thầy</font> (trừ những chỗ được phép sửa như đã nói ở trên).\n",
    "\n",
    "Trong khi làm bài, thường xuyên `Ctrl + S` để lưu lại bài làm của bạn, tránh mất mát thông tin.\n",
    "\n",
    "\n",
    "*Nên nhớ mục tiêu chính ở đây là <font color=green>học, học một cách chân thật</font>. Bạn có thể thảo luận ý tưởng với bạn khác cũng như tham khảo các nguồn trên mạng, nhưng sau cùng <font color=green>code và bài làm phải là của bạn, dựa trên sự hiểu thật sự của bạn</font>. Khi tham khảo các nguồn trên mạng thì bạn cần ghi rõ nguồn trong bài làm. Bạn không được tham khảo bài làm của các bạn năm trước (vì nếu làm vậy thì bao giờ bạn mới có thể tự mình suy nghĩ để giải quyết vấn đề); sau khi kết thúc môn học, bạn cũng không được đưa bài làm cho các bạn khóa sau hoặc public bài làm trên Github (vì nếu làm vậy thì sẽ ảnh hưởng tới việc học của các bạn khóa sau). Nếu bạn có thể làm theo những gì mình nói thì điểm của bạn có thể sẽ không cao nhưng bạn sẽ có được những bước tiến thật sự. <font color=red>Trong trường hợp bạn vi phạm những điều mình nói ở trên thì sẽ bị 0 điểm cho toàn bộ môn học.</font>*\n",
    "\n",
    "**Cách nộp bài**\n",
    "\n",
    "Khi chấm bài, đầu tiên mình sẽ chọn `Kernel` - `Restart & Run All`, để restart và chạy tất cả các cell trong notebook của bạn; do đó, trước khi nộp bài, bạn nên chạy thử `Kernel` - `Restart & Run All` để đảm bảo mọi chuyện diễn ra đúng như mong đợi.\n",
    "\n",
    "Sau đó, bạn tạo thư mục nộp bài theo cấu trúc sau:\n",
    "- Thư mục `MSSV` (vd, nếu bạn có MSSV là 1234567 thì bạn đặt tên thư mục là `1234567`)\n",
    "    - File `Lab02_KhamPhaPhanTichDuLieu.ipynb` (không cần nộp các file khác)\n",
    "\n",
    "Cuối cùng, bạn nén thư mục `MSSV` này lại và nộp ở link trên moodle. Đuôi của file nén phải là .zip (chứ không được .rar hay gì khác).\n",
    "\n",
    "<font color=red>Bạn lưu ý tuân thủ chính xác qui định nộp bài ở trên.</font>"
   ]
  },
  {
   "cell_type": "markdown",
   "metadata": {
    "Collapsed": "false"
   },
   "source": [
    "---"
   ]
  },
  {
   "cell_type": "markdown",
   "metadata": {},
   "source": [
    "## Import"
   ]
  },
  {
   "cell_type": "code",
   "execution_count": 1,
   "metadata": {},
   "outputs": [],
   "source": [
    "import matplotlib.pyplot as plt\n",
    "import numpy as np\n",
    "import pandas as pd \n",
    "# YOUR CODE HERE (OPTION) \n",
    "# Nếu cần các thư viện khác thì bạn có thể import ở đây"
   ]
  },
  {
   "cell_type": "markdown",
   "metadata": {},
   "source": [
    "---"
   ]
  },
  {
   "cell_type": "markdown",
   "metadata": {},
   "source": [
    "## Thu thập dữ liệu"
   ]
  },
  {
   "cell_type": "markdown",
   "metadata": {},
   "source": [
    "Dữ liệu được sử dụng trong bài tập này là dữ liệu khảo sát các lập trình viên của trang StackOverflow. Mình download dữ liệu [ở đây](https://drive.google.com/file/d/1dfGerWeWkcyQ9GX9x20rdSGj7WtEpzBB/view) và có bỏ đi một số cột để đơn giản hóa. \n",
    "\n",
    "Theo mô tả trong file \"README_2020.txt\" của StackOverflow:\n",
    ">The enclosed data set is the full, cleaned results of the 2020 Stack Overflow Developer Survey. Free response submissions and personally identifying information have been removed from the results to protect the privacy of respondents. There are three files besides this README:\n",
    ">\n",
    ">1. survey_results_public.csv - CSV file with main survey results, one respondent per row and one column per answer\n",
    ">2. survey_results_schema.csv - CSV file with survey schema, i.e., the questions that correspond to each column name\n",
    ">3. so_survey_2020.pdf - PDF file of survey instrument\n",
    ">\n",
    ">The survey was fielded from February 5 to February 28, 2020. The median time spent on the survey for qualified responses was 16.6 minutes.\n",
    ">\n",
    ">Respondents were recruited primarily through channels owned by Stack Overflow. The top 5 sources of respondents were onsite messaging, blog posts, email lists, Meta posts, banner ads, and social media posts. Since respondents were recruited in this way, highly engaged users on Stack Overflow were more likely to notice the links for the survey and click to begin it.\n",
    "\n",
    "File \"survey_results_public-short.csv\" mà mình đính kèm là phiên bản đơn giản hóa của file \"survey_results_public.csv\" (từ 61 cột, mình bỏ xuống còn 29 cột). Đây là file dữ liệu chính mà bạn sẽ làm trong bài tập này. Ngoài ra, mình còn đính kèm 2 file phụ: (1) file \"survey_results_schema-short.csv\" là file cho biết ý nghĩa của các cột, và (2) file \"so_survey_2020.pdf\" là file khảo sát gốc của StackOverflow.\n",
    "\n",
    "Để ý: \n",
    "- Dữ liệu này không đại diện được cho cộng đồng lập trình viên trên toàn thế giới, mà chỉ giới hạn trong tập những lập trình viên thực hiện khảo sát của StackOverflow. Những câu trả lời có được thông qua tập dữ liệu này cũng sẽ bị giới hạn trong phạm vi đó.\n",
    "- Dữ liệu có đúng không? Về cơ bản là ta không biết được. Ở đây, mục đích chính là học qui trình Khoa Học Dữ Liệu và các câu lệnh của Pandas nên ta sẽ **giả định** phần lớn dữ liệu là đúng và tiếp tục làm.\n",
    "\n",
    "Cũng theo file \"README_2020.txt\", dữ liệu này được StackOverflow public với license như sau:\n",
    ">This database - The Public 2020 Stack Overflow Developer Survey Results - is made available under the Open Database License (ODbL): http://opendatacommons.org/licenses/odbl/1.0/. Any rights in individual contents of the database are licensed under the Database Contents License: http://opendatacommons.org/licenses/dbcl/1.0/\n",
    ">\n",
    ">TLDR: You are free to share, adapt, and create derivative works from The Public 2020 Stack Overflow Developer Survey Results as long as you attribute Stack Overflow, keep the database open (if you redistribute it), and continue to share-alike any adapted database under the ODbl.\n"
   ]
  },
  {
   "cell_type": "markdown",
   "metadata": {},
   "source": [
    "---"
   ]
  },
  {
   "cell_type": "markdown",
   "metadata": {},
   "source": [
    "## Khám phá dữ liệu"
   ]
  },
  {
   "cell_type": "markdown",
   "metadata": {},
   "source": [
    "### Đọc dữ liệu từ file (0.25đ)"
   ]
  },
  {
   "cell_type": "markdown",
   "metadata": {},
   "source": [
    "Đầu tiên, bạn viết code để đọc dữ liệu từ file \"survey_results_public-short.csv\" và lưu kết quả vào DataFrame `survey_df`; ta thống nhất là sẽ để file dữ liệu này cùng cấp với file notebook và khi đọc file thì chỉ truyền vào tên của file. Ngoài ra, bạn cũng cần cho cột `Respondent` (id của người làm khảo sát) làm cột index của `survey_df`."
   ]
  },
  {
   "cell_type": "code",
   "execution_count": 10,
   "metadata": {
    "deletable": false,
    "nbgrader": {
     "cell_type": "code",
     "checksum": "0bf411943f48101b385795cb06db43f4",
     "grade": true,
     "grade_id": "cell-d46e97079096473c",
     "locked": false,
     "points": 0.25,
     "schema_version": 3,
     "solution": true,
     "task": false
    }
   },
   "outputs": [
    {
     "name": "stderr",
     "output_type": "stream",
     "text": [
      "C:\\Users\\Admin\\anaconda3\\envs\\min_ds-env\\lib\\site-packages\\IPython\\core\\interactiveshell.py:3172: DtypeWarning: Columns (9) have mixed types.Specify dtype option on import or set low_memory=False.\n",
      "  has_raised = await self.run_ast_nodes(code_ast.body, cell_name,\n"
     ]
    }
   ],
   "source": [
    "# YOUR CODE HERE\n",
    "df = pd.read_csv('complaints.csv')"
   ]
  },
  {
   "cell_type": "code",
   "execution_count": 11,
   "metadata": {
    "scrolled": true
   },
   "outputs": [
    {
     "data": {
      "text/html": [
       "<div>\n",
       "<style scoped>\n",
       "    .dataframe tbody tr th:only-of-type {\n",
       "        vertical-align: middle;\n",
       "    }\n",
       "\n",
       "    .dataframe tbody tr th {\n",
       "        vertical-align: top;\n",
       "    }\n",
       "\n",
       "    .dataframe thead th {\n",
       "        text-align: right;\n",
       "    }\n",
       "</style>\n",
       "<table border=\"1\" class=\"dataframe\">\n",
       "  <thead>\n",
       "    <tr style=\"text-align: right;\">\n",
       "      <th></th>\n",
       "      <th>Date received</th>\n",
       "      <th>Product</th>\n",
       "      <th>Sub-product</th>\n",
       "      <th>Issue</th>\n",
       "      <th>Sub-issue</th>\n",
       "      <th>Consumer complaint narrative</th>\n",
       "      <th>Company public response</th>\n",
       "      <th>Company</th>\n",
       "      <th>State</th>\n",
       "      <th>ZIP code</th>\n",
       "      <th>Tags</th>\n",
       "      <th>Consumer consent provided?</th>\n",
       "      <th>Submitted via</th>\n",
       "      <th>Date sent to company</th>\n",
       "      <th>Company response to consumer</th>\n",
       "      <th>Timely response?</th>\n",
       "      <th>Consumer disputed?</th>\n",
       "      <th>Complaint ID</th>\n",
       "    </tr>\n",
       "  </thead>\n",
       "  <tbody>\n",
       "    <tr>\n",
       "      <th>0</th>\n",
       "      <td>2019-06-13</td>\n",
       "      <td>Credit reporting, credit repair services, or o...</td>\n",
       "      <td>Credit reporting</td>\n",
       "      <td>Incorrect information on your report</td>\n",
       "      <td>Information belongs to someone else</td>\n",
       "      <td>NaN</td>\n",
       "      <td>NaN</td>\n",
       "      <td>CAPITAL ONE FINANCIAL CORPORATION</td>\n",
       "      <td>PA</td>\n",
       "      <td>18640.0</td>\n",
       "      <td>NaN</td>\n",
       "      <td>Consent not provided</td>\n",
       "      <td>Web</td>\n",
       "      <td>2019-06-13</td>\n",
       "      <td>Closed with explanation</td>\n",
       "      <td>Yes</td>\n",
       "      <td>NaN</td>\n",
       "      <td>3274605</td>\n",
       "    </tr>\n",
       "    <tr>\n",
       "      <th>1</th>\n",
       "      <td>2019-11-01</td>\n",
       "      <td>Vehicle loan or lease</td>\n",
       "      <td>Loan</td>\n",
       "      <td>Struggling to pay your loan</td>\n",
       "      <td>Denied request to lower payments</td>\n",
       "      <td>I contacted Ally on Friday XX/XX/XXXX after fa...</td>\n",
       "      <td>Company has responded to the consumer and the ...</td>\n",
       "      <td>ALLY FINANCIAL INC.</td>\n",
       "      <td>NJ</td>\n",
       "      <td>8854.0</td>\n",
       "      <td>NaN</td>\n",
       "      <td>Consent provided</td>\n",
       "      <td>Web</td>\n",
       "      <td>2019-11-01</td>\n",
       "      <td>Closed with explanation</td>\n",
       "      <td>Yes</td>\n",
       "      <td>NaN</td>\n",
       "      <td>3425257</td>\n",
       "    </tr>\n",
       "    <tr>\n",
       "      <th>2</th>\n",
       "      <td>2019-04-01</td>\n",
       "      <td>Credit reporting, credit repair services, or o...</td>\n",
       "      <td>Credit reporting</td>\n",
       "      <td>Incorrect information on your report</td>\n",
       "      <td>Account status incorrect</td>\n",
       "      <td>NaN</td>\n",
       "      <td>Company has responded to the consumer and the ...</td>\n",
       "      <td>TRANSUNION INTERMEDIATE HOLDINGS, INC.</td>\n",
       "      <td>PA</td>\n",
       "      <td>19067.0</td>\n",
       "      <td>NaN</td>\n",
       "      <td>Consent not provided</td>\n",
       "      <td>Web</td>\n",
       "      <td>2019-04-01</td>\n",
       "      <td>Closed with explanation</td>\n",
       "      <td>Yes</td>\n",
       "      <td>NaN</td>\n",
       "      <td>3198225</td>\n",
       "    </tr>\n",
       "    <tr>\n",
       "      <th>3</th>\n",
       "      <td>2019-04-10</td>\n",
       "      <td>Credit card or prepaid card</td>\n",
       "      <td>Store credit card</td>\n",
       "      <td>Closing your account</td>\n",
       "      <td>Can't close your account</td>\n",
       "      <td>NaN</td>\n",
       "      <td>Company believes it acted appropriately as aut...</td>\n",
       "      <td>Atlanticus Services Corporation</td>\n",
       "      <td>WI</td>\n",
       "      <td>54409.0</td>\n",
       "      <td>Older American</td>\n",
       "      <td>NaN</td>\n",
       "      <td>Referral</td>\n",
       "      <td>2019-04-16</td>\n",
       "      <td>Closed with explanation</td>\n",
       "      <td>No</td>\n",
       "      <td>NaN</td>\n",
       "      <td>3207424</td>\n",
       "    </tr>\n",
       "    <tr>\n",
       "      <th>4</th>\n",
       "      <td>2020-04-21</td>\n",
       "      <td>Credit reporting, credit repair services, or o...</td>\n",
       "      <td>Credit reporting</td>\n",
       "      <td>Incorrect information on your report</td>\n",
       "      <td>Account information incorrect</td>\n",
       "      <td>Capital One Auto Finance incorrectly and witho...</td>\n",
       "      <td>NaN</td>\n",
       "      <td>CAPITAL ONE FINANCIAL CORPORATION</td>\n",
       "      <td>GA</td>\n",
       "      <td>30024.0</td>\n",
       "      <td>NaN</td>\n",
       "      <td>Consent provided</td>\n",
       "      <td>Web</td>\n",
       "      <td>2020-04-21</td>\n",
       "      <td>Closed with explanation</td>\n",
       "      <td>Yes</td>\n",
       "      <td>NaN</td>\n",
       "      <td>3616748</td>\n",
       "    </tr>\n",
       "  </tbody>\n",
       "</table>\n",
       "</div>"
      ],
      "text/plain": [
       "  Date received                                            Product  \\\n",
       "0    2019-06-13  Credit reporting, credit repair services, or o...   \n",
       "1    2019-11-01                              Vehicle loan or lease   \n",
       "2    2019-04-01  Credit reporting, credit repair services, or o...   \n",
       "3    2019-04-10                        Credit card or prepaid card   \n",
       "4    2020-04-21  Credit reporting, credit repair services, or o...   \n",
       "\n",
       "         Sub-product                                 Issue  \\\n",
       "0   Credit reporting  Incorrect information on your report   \n",
       "1               Loan           Struggling to pay your loan   \n",
       "2   Credit reporting  Incorrect information on your report   \n",
       "3  Store credit card                  Closing your account   \n",
       "4   Credit reporting  Incorrect information on your report   \n",
       "\n",
       "                             Sub-issue  \\\n",
       "0  Information belongs to someone else   \n",
       "1     Denied request to lower payments   \n",
       "2             Account status incorrect   \n",
       "3             Can't close your account   \n",
       "4        Account information incorrect   \n",
       "\n",
       "                        Consumer complaint narrative  \\\n",
       "0                                                NaN   \n",
       "1  I contacted Ally on Friday XX/XX/XXXX after fa...   \n",
       "2                                                NaN   \n",
       "3                                                NaN   \n",
       "4  Capital One Auto Finance incorrectly and witho...   \n",
       "\n",
       "                             Company public response  \\\n",
       "0                                                NaN   \n",
       "1  Company has responded to the consumer and the ...   \n",
       "2  Company has responded to the consumer and the ...   \n",
       "3  Company believes it acted appropriately as aut...   \n",
       "4                                                NaN   \n",
       "\n",
       "                                  Company State ZIP code            Tags  \\\n",
       "0       CAPITAL ONE FINANCIAL CORPORATION    PA  18640.0             NaN   \n",
       "1                     ALLY FINANCIAL INC.    NJ   8854.0             NaN   \n",
       "2  TRANSUNION INTERMEDIATE HOLDINGS, INC.    PA  19067.0             NaN   \n",
       "3         Atlanticus Services Corporation    WI  54409.0  Older American   \n",
       "4       CAPITAL ONE FINANCIAL CORPORATION    GA  30024.0             NaN   \n",
       "\n",
       "  Consumer consent provided? Submitted via Date sent to company  \\\n",
       "0       Consent not provided           Web           2019-06-13   \n",
       "1           Consent provided           Web           2019-11-01   \n",
       "2       Consent not provided           Web           2019-04-01   \n",
       "3                        NaN      Referral           2019-04-16   \n",
       "4           Consent provided           Web           2020-04-21   \n",
       "\n",
       "  Company response to consumer Timely response? Consumer disputed?  \\\n",
       "0      Closed with explanation              Yes                NaN   \n",
       "1      Closed with explanation              Yes                NaN   \n",
       "2      Closed with explanation              Yes                NaN   \n",
       "3      Closed with explanation               No                NaN   \n",
       "4      Closed with explanation              Yes                NaN   \n",
       "\n",
       "   Complaint ID  \n",
       "0       3274605  \n",
       "1       3425257  \n",
       "2       3198225  \n",
       "3       3207424  \n",
       "4       3616748  "
      ]
     },
     "execution_count": 11,
     "metadata": {},
     "output_type": "execute_result"
    }
   ],
   "source": [
    "# TEST\n",
    "df.head()"
   ]
  },
  {
   "cell_type": "markdown",
   "metadata": {},
   "source": [
    "### Dữ liệu có bao nhiêu dòng và bao nhiêu cột? (0.25đ)"
   ]
  },
  {
   "cell_type": "markdown",
   "metadata": {},
   "source": [
    "Kế đến, bạn tính số dòng và số cột của DataFrame `survey_df` và lần lượt lưu vào biến `num_rows` và `num_cols`. "
   ]
  },
  {
   "cell_type": "code",
   "execution_count": 12,
   "metadata": {
    "deletable": false,
    "nbgrader": {
     "cell_type": "code",
     "checksum": "607dbbe4997f90db7ca9d3e0c596d38a",
     "grade": false,
     "grade_id": "cell-8338f3610f6c5002",
     "locked": false,
     "schema_version": 3,
     "solution": true,
     "task": false
    }
   },
   "outputs": [
    {
     "data": {
      "text/plain": [
       "(2396033, 18)"
      ]
     },
     "execution_count": 12,
     "metadata": {},
     "output_type": "execute_result"
    }
   ],
   "source": [
    "# YOUR CODE HERE\n",
    "df.shape"
   ]
  },
  {
   "cell_type": "markdown",
   "metadata": {},
   "source": [
    "Xóa cột tag và xóa các dòng có giá nan ở Sub-product"
   ]
  },
  {
   "cell_type": "code",
   "execution_count": 13,
   "metadata": {},
   "outputs": [],
   "source": [
    "df = df.drop('Tags',axis=1)\n",
    "df = df.dropna(subset=['Sub-product'])"
   ]
  },
  {
   "cell_type": "code",
   "execution_count": 16,
   "metadata": {},
   "outputs": [
    {
     "data": {
      "text/plain": [
       "(2160869, 17)"
      ]
     },
     "execution_count": 16,
     "metadata": {},
     "output_type": "execute_result"
    }
   ],
   "source": [
    "size = df.shape\n",
    "size"
   ]
  },
  {
   "cell_type": "code",
   "execution_count": 17,
   "metadata": {},
   "outputs": [],
   "source": [
    "num_rows = size[0]\n",
    "num_cols = size[1]"
   ]
  },
  {
   "cell_type": "markdown",
   "metadata": {},
   "source": [
    "### Dữ liệu có các dòng bị lặp không? (0.25đ)"
   ]
  },
  {
   "cell_type": "markdown",
   "metadata": {},
   "source": [
    "Kế đến, bạn tính số dòng có index (id của người làm khảo sát) bị lặp và lưu vào biến `num_duplicated_rows`. Trong nhóm các dòng có index giống nhau thì dòng đầu tiên không tính là bị lặp."
   ]
  },
  {
   "cell_type": "code",
   "execution_count": 31,
   "metadata": {
    "deletable": false,
    "nbgrader": {
     "cell_type": "code",
     "checksum": "8562ed8052a1cfb4a1c033be002aa083",
     "grade": false,
     "grade_id": "cell-aadbfe12be205faa",
     "locked": false,
     "schema_version": 3,
     "solution": true,
     "task": false
    }
   },
   "outputs": [],
   "source": [
    "# YOUR CODE HERE\n",
    "num_duplicated_rows = df.duplicated(subset=['Complaint ID']).sum()"
   ]
  },
  {
   "cell_type": "markdown",
   "metadata": {},
   "source": [
    "Trước khi đi tiếp, bạn nên đọc kết quả hiển thị ở trên và đảm bảo là bạn đã hiểu ý nghĩa của các cột. Để hiểu ý nghĩa của cột, có thể bạn sẽ cần xem thêm các giá trị của cột bên DataFrame `survey_df`. "
   ]
  },
  {
   "cell_type": "markdown",
   "metadata": {},
   "source": [
    "### Mỗi cột hiện đang có kiểu dữ liệu gì? Có cột nào có kiểu dữ liệu chưa phù hợp để có thể xử lý tiếp không? (0.25đ)"
   ]
  },
  {
   "cell_type": "markdown",
   "metadata": {},
   "source": [
    "Kế đến, bạn tính kiểu dữ liệu (dtype) của mỗi cột trong DataFrame `survey_df` và lưu kết quả vào Series `dtypes` (Series này có index là tên cột). "
   ]
  },
  {
   "cell_type": "code",
   "execution_count": 32,
   "metadata": {
    "deletable": false,
    "nbgrader": {
     "cell_type": "code",
     "checksum": "2ecb5b8df41e1b29c852e2e5dd13b893",
     "grade": false,
     "grade_id": "cell-206c19691b1a6c05",
     "locked": false,
     "schema_version": 3,
     "solution": true,
     "task": false
    },
    "scrolled": true
   },
   "outputs": [
    {
     "data": {
      "text/plain": [
       "Date received                   object\n",
       "Product                         object\n",
       "Sub-product                     object\n",
       "Issue                           object\n",
       "Sub-issue                       object\n",
       "Consumer complaint narrative    object\n",
       "Company public response         object\n",
       "Company                         object\n",
       "State                           object\n",
       "ZIP code                        object\n",
       "Consumer consent provided?      object\n",
       "Submitted via                   object\n",
       "Date sent to company            object\n",
       "Company response to consumer    object\n",
       "Timely response?                object\n",
       "Consumer disputed?              object\n",
       "Complaint ID                     int64\n",
       "dtype: object"
      ]
     },
     "execution_count": 32,
     "metadata": {},
     "output_type": "execute_result"
    }
   ],
   "source": [
    "# YOUR CODE HERE\n",
    "dtypes = df.dtypes\n",
    "dtypes"
   ]
  },
  {
   "cell_type": "code",
   "execution_count": 33,
   "metadata": {
    "deletable": false,
    "editable": false,
    "nbgrader": {
     "cell_type": "code",
     "checksum": "ac6951bf9ae5d429dd8c2fbeb9d17832",
     "grade": true,
     "grade_id": "cell-3ebcf8f07733605b",
     "locked": true,
     "points": 0.25,
     "schema_version": 3,
     "solution": false,
     "task": false
    }
   },
   "outputs": [],
   "source": [
    "def open_object_dtype(s):\n",
    "    dtypes = set()\n",
    "    # YOUR CODE HERE\n",
    "    a = s.apply(lambda x: type(x))\n",
    "    dtypes = set((a.unique()))\n",
    "    \n",
    "    return dtypes"
   ]
  },
  {
   "cell_type": "code",
   "execution_count": 38,
   "metadata": {},
   "outputs": [
    {
     "data": {
      "text/plain": [
       "Index(['Date received', 'Product', 'Sub-product', 'Issue', 'Sub-issue',\n",
       "       'Consumer complaint narrative', 'Company public response', 'Company',\n",
       "       'State', 'ZIP code', 'Consumer consent provided?', 'Submitted via',\n",
       "       'Date sent to company', 'Company response to consumer',\n",
       "       'Timely response?', 'Consumer disputed?', 'Complaint ID'],\n",
       "      dtype='object')"
      ]
     },
     "execution_count": 38,
     "metadata": {},
     "output_type": "execute_result"
    }
   ],
   "source": [
    "col = df.columns\n",
    "col"
   ]
  },
  {
   "cell_type": "code",
   "execution_count": 39,
   "metadata": {},
   "outputs": [
    {
     "name": "stdout",
     "output_type": "stream",
     "text": [
      "{<class 'str'>}\n",
      "{<class 'str'>}\n",
      "{<class 'str'>}\n",
      "{<class 'str'>}\n",
      "{<class 'str'>, <class 'float'>}\n",
      "{<class 'str'>, <class 'float'>}\n",
      "{<class 'str'>, <class 'float'>}\n",
      "{<class 'str'>}\n",
      "{<class 'str'>, <class 'float'>}\n",
      "{<class 'str'>, <class 'float'>}\n",
      "{<class 'str'>, <class 'float'>}\n",
      "{<class 'str'>}\n",
      "{<class 'str'>}\n",
      "{<class 'str'>, <class 'float'>}\n",
      "{<class 'str'>}\n",
      "{<class 'str'>, <class 'float'>}\n",
      "{<class 'int'>}\n"
     ]
    }
   ],
   "source": [
    "for i in range(len(col)):\n",
    "    temp = open_object_dtype(df[col[i]])\n",
    "    print(temp)"
   ]
  },
  {
   "cell_type": "markdown",
   "metadata": {},
   "source": [
    "Như bạn có thể thấy, cột \"YearsCode\" và \"YearsCodePro\" nên có kiểu dữ liệu số, nhưng hiện giờ đang có kiểu dữ liệu object. Ta hãy thử xem thêm về các giá trị 2 cột này. "
   ]
  },
  {
   "cell_type": "code",
   "execution_count": 12,
   "metadata": {},
   "outputs": [
    {
     "data": {
      "text/plain": [
       "array(['36', '7', '4', '15', '6', '17', '8', '10', '35', '5', '37', '19',\n",
       "       '9', '22', '30', '23', '20', '2', 'Less than 1 year', '3', '13',\n",
       "       '25', '16', '43', '11', '38', '33', nan, '24', '21', '12', '40',\n",
       "       '27', '50', '46', '14', '18', '28', '32', '44', '26', '42', '31',\n",
       "       '34', '29', '1', '39', '41', '45', 'More than 50 years', '47',\n",
       "       '49', '48'], dtype=object)"
      ]
     },
     "execution_count": 12,
     "metadata": {},
     "output_type": "execute_result"
    }
   ],
   "source": []
  },
  {
   "cell_type": "code",
   "execution_count": 13,
   "metadata": {},
   "outputs": [
    {
     "data": {
      "text/plain": [
       "array(['27', '4', nan, '8', '13', '2', '7', '20', '1', '23', '3', '12',\n",
       "       '17', '18', '10', '14', '29', '6', '28', '9', '15', '11', '16',\n",
       "       '25', 'Less than 1 year', '5', '21', '19', '35', '24', '32', '22',\n",
       "       '30', '38', '26', '40', '33', '31', 'More than 50 years', '34',\n",
       "       '36', '39', '37', '41', '45', '47', '42', '46', '50', '43', '44',\n",
       "       '48', '49'], dtype=object)"
      ]
     },
     "execution_count": 13,
     "metadata": {},
     "output_type": "execute_result"
    }
   ],
   "source": [
    "survey_df['YearsCodePro'].unique()"
   ]
  },
  {
   "cell_type": "markdown",
   "metadata": {},
   "source": [
    "Ta nên đưa 2 cột này về dạng số để có thể tiếp tục khám phá (tính min, median, max, ...)."
   ]
  },
  {
   "cell_type": "markdown",
   "metadata": {},
   "source": [
    "---"
   ]
  },
  {
   "cell_type": "markdown",
   "metadata": {},
   "source": [
    "## Tiền xử lý (0.5đ)"
   ]
  },
  {
   "cell_type": "markdown",
   "metadata": {},
   "source": [
    "Bạn sẽ thực hiện tiền xử lý để chuyển 2 cột \"YearsCode\" và \"YearsCodePro\" về dạng số (float). Trong đó: \"Less than 1 year\" $\\to$ 0, \"More than 50 years\" $\\to$ 51. Sau khi chuyển thì `survey_df.dtypes` sẽ thay đổi."
   ]
  },
  {
   "cell_type": "code",
   "execution_count": 14,
   "metadata": {
    "deletable": false,
    "nbgrader": {
     "cell_type": "code",
     "checksum": "b12c49ae100fb58e51939537b8f7af48",
     "grade": false,
     "grade_id": "cell-cfc7d3af0fb5edec",
     "locked": false,
     "schema_version": 3,
     "solution": true,
     "task": false
    }
   },
   "outputs": [
    {
     "data": {
      "text/plain": [
       "MainBranch                       object\n",
       "Hobbyist                         object\n",
       "Age                             float64\n",
       "ConvertedComp                   float64\n",
       "Country                          object\n",
       "DevType                          object\n",
       "EdLevel                          object\n",
       "Employment                       object\n",
       "Ethnicity                        object\n",
       "Gender                           object\n",
       "JobFactors                       object\n",
       "JobSat                           object\n",
       "LanguageDesireNextYear           object\n",
       "LanguageWorkedWith               object\n",
       "MiscTechDesireNextYear           object\n",
       "MiscTechWorkedWith               object\n",
       "NEWCollabToolsDesireNextYear     object\n",
       "NEWCollabToolsWorkedWith         object\n",
       "NEWEdImpt                        object\n",
       "NEWLearn                         object\n",
       "NEWOvertime                      object\n",
       "NEWStuck                         object\n",
       "OpSys                            object\n",
       "PlatformDesireNextYear           object\n",
       "PlatformWorkedWith               object\n",
       "WorkWeekHrs                     float64\n",
       "YearsCode                       float64\n",
       "YearsCodePro                    float64\n",
       "dtype: object"
      ]
     },
     "execution_count": 14,
     "metadata": {},
     "output_type": "execute_result"
    }
   ],
   "source": [
    "# YOUR CODE HERE\n",
    "survey_df = survey_df.replace(to_replace = 'Less than 1 year',value= '0')\n",
    "survey_df = survey_df.replace(to_replace = 'More than 50 years',value= '51')\n",
    "survey_df['YearsCode'] = pd.to_numeric(survey_df['YearsCode'])\n",
    "survey_df['YearsCodePro'] = pd.to_numeric(survey_df['YearsCodePro'])\n",
    "#raise NotImplementedError()\n",
    "survey_df.dtypes"
   ]
  },
  {
   "cell_type": "code",
   "execution_count": 15,
   "metadata": {
    "deletable": false,
    "editable": false,
    "nbgrader": {
     "cell_type": "code",
     "checksum": "8a6ac7a184baa06b11ff89d9402fed23",
     "grade": true,
     "grade_id": "cell-4ee41f84604837a1",
     "locked": true,
     "points": 0.5,
     "schema_version": 3,
     "solution": false,
     "task": false
    }
   },
   "outputs": [],
   "source": [
    "# TEST\n",
    "assert survey_df['YearsCode'].dtype in [np.float32, np.float64]\n",
    "assert survey_df['YearsCodePro'].dtype in [np.float32, np.float64]"
   ]
  },
  {
   "cell_type": "markdown",
   "metadata": {},
   "source": [
    "---"
   ]
  },
  {
   "cell_type": "markdown",
   "metadata": {},
   "source": [
    "## Quay lại bước khám phá dữ liệu "
   ]
  },
  {
   "cell_type": "markdown",
   "metadata": {},
   "source": [
    "### Với mỗi cột có kiểu dữ liệu dạng số, các giá trị được phân bố như thế nào? (1đ)\n",
    "\n",
    "(Trong đó: phần tính các mô tả của mỗi cột chiếm 0.5đ, phần tính số lượng giá trị không hợp lệ của mỗi cột chiếm 0.5đ)"
   ]
  },
  {
   "cell_type": "markdown",
   "metadata": {},
   "source": [
    "Với các cột có kiểu dữ liệu số, bạn sẽ tính:\n",
    "- Tỉ lệ % (từ 0 đến 100) các giá trị thiếu \n",
    "- Giá trị min\n",
    "- Giá trị lower quartile (phân vị 25)\n",
    "- Giá trị median (phân vị 50)\n",
    "- Giá trị upper quartile (phân vị 75)\n",
    "- Giá trị max\n",
    "\n",
    "Bạn sẽ lưu kết quả vào DataFrame `nume_col_info_df`, trong đó: \n",
    "- Tên của các cột là tên của các cột số trong `survey_df`\n",
    "- Tên của các dòng là: \"missing_percentage\", \"min\", \"lower_quartile\", \"median\", \"upper_quartile\", \"max\"  \n",
    "\n",
    "Để dễ nhìn, tất cả các giá trị bạn đều làm tròn với 1 chữ số thập phân bằng phương thức `.round(1)`."
   ]
  },
  {
   "cell_type": "code",
   "execution_count": 16,
   "metadata": {
    "deletable": false,
    "nbgrader": {
     "cell_type": "code",
     "checksum": "442122ad4ec86e8b7f1a9c4ecca1f6e7",
     "grade": false,
     "grade_id": "cell-d1503f01712c873a",
     "locked": false,
     "schema_version": 3,
     "solution": true,
     "task": false
    }
   },
   "outputs": [
    {
     "data": {
      "text/html": [
       "<div>\n",
       "<style scoped>\n",
       "    .dataframe tbody tr th:only-of-type {\n",
       "        vertical-align: middle;\n",
       "    }\n",
       "\n",
       "    .dataframe tbody tr th {\n",
       "        vertical-align: top;\n",
       "    }\n",
       "\n",
       "    .dataframe thead th {\n",
       "        text-align: right;\n",
       "    }\n",
       "</style>\n",
       "<table border=\"1\" class=\"dataframe\">\n",
       "  <thead>\n",
       "    <tr style=\"text-align: right;\">\n",
       "      <th></th>\n",
       "      <th>Age</th>\n",
       "      <th>ConvertedComp</th>\n",
       "      <th>WorkWeekHrs</th>\n",
       "      <th>YearsCode</th>\n",
       "      <th>YearsCodePro</th>\n",
       "    </tr>\n",
       "  </thead>\n",
       "  <tbody>\n",
       "    <tr>\n",
       "      <th>missing_percentage</th>\n",
       "      <td>29.5</td>\n",
       "      <td>46.1</td>\n",
       "      <td>36.2</td>\n",
       "      <td>10.5</td>\n",
       "      <td>28.1</td>\n",
       "    </tr>\n",
       "    <tr>\n",
       "      <th>min</th>\n",
       "      <td>1.0</td>\n",
       "      <td>0.0</td>\n",
       "      <td>1.0</td>\n",
       "      <td>0.0</td>\n",
       "      <td>0.0</td>\n",
       "    </tr>\n",
       "    <tr>\n",
       "      <th>lower_quartile</th>\n",
       "      <td>24.0</td>\n",
       "      <td>24648.0</td>\n",
       "      <td>40.0</td>\n",
       "      <td>6.0</td>\n",
       "      <td>3.0</td>\n",
       "    </tr>\n",
       "    <tr>\n",
       "      <th>median</th>\n",
       "      <td>29.0</td>\n",
       "      <td>54049.0</td>\n",
       "      <td>40.0</td>\n",
       "      <td>10.0</td>\n",
       "      <td>6.0</td>\n",
       "    </tr>\n",
       "    <tr>\n",
       "      <th>upper_quartile</th>\n",
       "      <td>35.0</td>\n",
       "      <td>95000.0</td>\n",
       "      <td>44.0</td>\n",
       "      <td>17.0</td>\n",
       "      <td>12.0</td>\n",
       "    </tr>\n",
       "    <tr>\n",
       "      <th>max</th>\n",
       "      <td>279.0</td>\n",
       "      <td>2000000.0</td>\n",
       "      <td>475.0</td>\n",
       "      <td>51.0</td>\n",
       "      <td>51.0</td>\n",
       "    </tr>\n",
       "  </tbody>\n",
       "</table>\n",
       "</div>"
      ],
      "text/plain": [
       "                      Age  ConvertedComp  WorkWeekHrs  YearsCode  YearsCodePro\n",
       "missing_percentage   29.5           46.1         36.2       10.5          28.1\n",
       "min                   1.0            0.0          1.0        0.0           0.0\n",
       "lower_quartile       24.0        24648.0         40.0        6.0           3.0\n",
       "median               29.0        54049.0         40.0       10.0           6.0\n",
       "upper_quartile       35.0        95000.0         44.0       17.0          12.0\n",
       "max                 279.0      2000000.0        475.0       51.0          51.0"
      ]
     },
     "execution_count": 16,
     "metadata": {},
     "output_type": "execute_result"
    }
   ],
   "source": [
    "# YOUR CODE HERE\n",
    "list_row = ['missing_percentage', 'min', 'lower_quartile', 'median', 'upper_quartile', 'max']\n",
    "list_col_numeric = ['Age', 'ConvertedComp', 'WorkWeekHrs', 'YearsCode', 'YearsCodePro']\n",
    "list_data = []\n",
    "for i in range(0,5):\n",
    "    list_data.append([]) # chứ thông tin mỗi thuộc tính\n",
    "total_values = float(len(survey_df))\n",
    "i = -1\n",
    "for value in list_col_numeric: #xử lý cho từng thuộc tính\n",
    "    i += 1\n",
    "    describe = survey_df[value].describe()\n",
    "    miss_value = total_values - describe[0]\n",
    "    percent_miss = round((miss_value/total_values)*100, 1)\n",
    "    list_data[i].append(percent_miss)\n",
    "    list_data[i].append(describe[3].round(1))\n",
    "    list_data[i].append(describe[4].round(1))\n",
    "    list_data[i].append(describe[5].round(1))\n",
    "    list_data[i].append(describe[6].round(1))\n",
    "    list_data[i].append(describe[7].round(1))\n",
    "data_numeric = {list_col_numeric[0]:list_data[0], list_col_numeric[1]:list_data[1],list_col_numeric[2]:list_data[2],list_col_numeric[3]:list_data[3], list_col_numeric[4]:list_data[4]}\n",
    "nume_col_info_df = pd.DataFrame(data_numeric, index = list_row)\n",
    "#raise NotImplementedError()\n",
    "nume_col_info_df"
   ]
  },
  {
   "cell_type": "code",
   "execution_count": 17,
   "metadata": {
    "deletable": false,
    "editable": false,
    "nbgrader": {
     "cell_type": "code",
     "checksum": "d882c48546d8d70df000f2ac28c8ce0c",
     "grade": true,
     "grade_id": "cell-b19aff83344102f8",
     "locked": true,
     "points": 0.5,
     "schema_version": 3,
     "solution": false,
     "task": false
    }
   },
   "outputs": [],
   "source": [
    "# TEST\n",
    "assert nume_col_info_df.shape == (6, 5)\n",
    "data = nume_col_info_df.loc[['missing_percentage', 'min', 'lower_quartile', 'median', 'upper_quartile', 'max'],\n",
    "                           ['Age', 'ConvertedComp', 'WorkWeekHrs', 'YearsCode', 'YearsCodePro']].values\n",
    "correct_data = np.array([[     29.5,      46.1,      36.2,      10.5,      28.1],\n",
    "                         [      1. ,       0. ,       1. ,       0. ,       0. ],\n",
    "                         [     24. ,   24648. ,      40. ,       6. ,       3. ],\n",
    "                         [     29. ,   54049. ,      40. ,      10. ,       6. ],\n",
    "                         [     35. ,   95000. ,      44. ,      17. ,      12. ],\n",
    "                         [    279. , 2000000. ,     475. ,      51. ,      51. ]])\n",
    "assert np.array_equal(data, correct_data)"
   ]
  },
  {
   "cell_type": "markdown",
   "metadata": {},
   "source": [
    "**Có giá trị không hợp lệ trong mỗi cột không? (không xét giá trị thiếu)**\n",
    "- Cột \"Age\": bạn hãy tính số lượng giá trị không hợp lệ của cột \"Age\" (< giá trị tương ứng trong cột \"YearsCode\" HOẶC < giá trị tương ứng trong cột \"YearsCodePro\") và lưu kết quả vào biến `num_invalid_Age_vals`.\n",
    "- Cột \"WorkWeekHrs\" (số giờ làm việc trung bình một tuần): ta thấy max là 475 giờ! Trong khi đó, 7 ngày * 24 giờ = 168 giờ! Bạn hãy tính số lượng giá trị không hợp lệ của cột \"WorkWeekHrs\" (> 24 * 7) và lưu kết quả vào biến `num_invalid_WorkWeekHrs`.\n",
    "- Cột \"YearsCode\": bạn hãy tính số lượng giá trị không hợp lệ của cột \"YearsCode\" (< giá trị tương ứng trong cột \"YearsCodePro\" HOẶC > giá trị tương ứng trong cột \"Age\") và lưu kết quả vào biến `num_invalid_YearsCode`.\n",
    "- Cột \"YearsCodePro\": bạn hãy tính số lượng giá trị không hợp lệ của cột \"YearsCodePro\" (> giá trị tương ứng trong cột \"YearsCode\" HOẶC > giá trị tương ứng trong cột \"Age\") và lưu kết quả vào biến `num_invalid_YearsCodePro`."
   ]
  },
  {
   "cell_type": "code",
   "execution_count": 18,
   "metadata": {
    "deletable": false,
    "nbgrader": {
     "cell_type": "code",
     "checksum": "90f9bb6ed444c8392723dd5aca893623",
     "grade": false,
     "grade_id": "cell-59a58bdc5f54bb25",
     "locked": false,
     "schema_version": 3,
     "solution": true,
     "task": false
    }
   },
   "outputs": [],
   "source": [
    "# YOUR CODE HERE\n",
    "num_invalid_Age_vals = 0\n",
    "num_invalid_WorkWeekHrs = 0\n",
    "num_invalid_YearsCode = 0\n",
    "num_invalid_YearsCodePro = 0\n",
    "num_invalid_Age_vals = len(survey_df.loc[(survey_df['Age'] < survey_df['YearsCode']) | (survey_df['Age'] < survey_df['YearsCodePro'])])\n",
    "num_invalid_WorkWeekHrs_vals = len(survey_df.loc[survey_df['WorkWeekHrs'] > 168])\n",
    "num_invalid_YearsCode_vals = len(survey_df.loc[(survey_df['YearsCode'] < survey_df['YearsCodePro']) | (survey_df['YearsCode'] > survey_df['Age'])])\n",
    "num_invalid_YearsCodePro_vals = len(survey_df.loc[(survey_df['YearsCodePro'] > survey_df['YearsCode']) | (survey_df['YearsCodePro'] > survey_df['Age'])])\n",
    "#raise NotImplementedError()\n"
   ]
  },
  {
   "cell_type": "code",
   "execution_count": 19,
   "metadata": {
    "deletable": false,
    "editable": false,
    "nbgrader": {
     "cell_type": "code",
     "checksum": "d077cbc3ef8d27ae7380e560cf825ccf",
     "grade": true,
     "grade_id": "cell-386769471c5b4b8f",
     "locked": true,
     "points": 0.5,
     "schema_version": 3,
     "solution": false,
     "task": false
    }
   },
   "outputs": [],
   "source": [
    "# TEST\n",
    "assert num_invalid_WorkWeekHrs_vals == 62\n",
    "assert num_invalid_Age_vals == 16\n",
    "assert num_invalid_YearsCode_vals == 499\n",
    "assert num_invalid_YearsCodePro_vals == 486"
   ]
  },
  {
   "cell_type": "markdown",
   "metadata": {},
   "source": [
    "Do số lượng các giá trị không hợp lệ cũng khá ít nên ta có thể tiền xử lý bằng cách xóa các dòng chứa các giá trị không hợp lệ."
   ]
  },
  {
   "cell_type": "markdown",
   "metadata": {},
   "source": [
    "---"
   ]
  },
  {
   "cell_type": "markdown",
   "metadata": {},
   "source": [
    "## Tiền xử lý (0.5đ)"
   ]
  },
  {
   "cell_type": "markdown",
   "metadata": {},
   "source": [
    "Bạn sẽ thực hiện tiền xử lý để xóa đi các dòng của DataFrame `survey_df` mà chứa ít nhất là một giá trị không hợp lệ. Sau khi tiền xử lý thì `survey_df` sẽ thay đổi. "
   ]
  },
  {
   "cell_type": "code",
   "execution_count": 20,
   "metadata": {
    "deletable": false,
    "nbgrader": {
     "cell_type": "code",
     "checksum": "ce7e1b5a79e5743055a026055a75c175",
     "grade": false,
     "grade_id": "cell-6a6242ef6d2c8c65",
     "locked": false,
     "schema_version": 3,
     "solution": true,
     "task": false
    }
   },
   "outputs": [],
   "source": [
    "# YOUR CODE HERE\n",
    "#chọn ra những dòng không hợp lệ rồi bỏ đi trong dataframe gốc\n",
    "temp_data_frame = survey_df.loc[(survey_df['Age'] < survey_df['YearsCode']) | (survey_df['Age'] < survey_df['YearsCodePro'])]\n",
    "survey_df.drop(temp_data_frame.index, axis=0,inplace=True)\n",
    "temp_data_frame = survey_df.loc[survey_df['WorkWeekHrs'] > 168]\n",
    "survey_df.drop(temp_data_frame.index, axis=0,inplace=True)\n",
    "temp_data_frame = survey_df.loc[(survey_df['YearsCode'] < survey_df['YearsCodePro']) | (survey_df['YearsCode'] > survey_df['Age'])]\n",
    "survey_df.drop(temp_data_frame.index, axis=0,inplace=True)\n",
    "temp_data_frame = survey_df.loc[(survey_df['YearsCodePro'] > survey_df['YearsCode']) | (survey_df['YearsCodePro'] > survey_df['Age'])]\n",
    "survey_df.drop(temp_data_frame.index, axis=0,inplace=True)\n",
    "#raise NotImplementedError()"
   ]
  },
  {
   "cell_type": "code",
   "execution_count": 21,
   "metadata": {
    "deletable": false,
    "editable": false,
    "nbgrader": {
     "cell_type": "code",
     "checksum": "93bbf1f7cc93f01d800d703aeb494f04",
     "grade": true,
     "grade_id": "cell-9d04f770468db3c8",
     "locked": true,
     "points": 0.5,
     "schema_version": 3,
     "solution": false,
     "task": false
    }
   },
   "outputs": [],
   "source": [
    "# TEST\n",
    "assert len(survey_df) == 63900"
   ]
  },
  {
   "cell_type": "markdown",
   "metadata": {},
   "source": [
    "---"
   ]
  },
  {
   "cell_type": "markdown",
   "metadata": {},
   "source": [
    "## Quay lại bước khám phá dữ liệu"
   ]
  },
  {
   "cell_type": "markdown",
   "metadata": {},
   "source": [
    "### Với mỗi cột có kiểu dữ liệu không phải dạng số, các giá trị được phân bố như thế nào? (1đ)"
   ]
  },
  {
   "cell_type": "markdown",
   "metadata": {},
   "source": [
    "Với các cột có kiểu dữ liệu không phải số, bạn sẽ tính:\n",
    "- Tỉ lệ % (từ 0 đến 100) các giá trị thiếu \n",
    "- Số lượng các giá trị (các giá trị ở đây là các giá trị khác nhau và ta không xét giá trị thiếu): với cột mà ứng với câu hỏi dạng multichoice (ví dụ, cột \"DevType\"), mỗi giá trị có thể chứa nhiều choice (các choice được phân tách bởi dấu chấm phẩy), và việc đếm trực tiếp các giá trị không có nhiều ý nghĩa lắm vì số lượng tổ hợp các choice là khá nhiều; một cách khác tốt hơn mà bạn sẽ làm là đếm số lượng các choice\n",
    "- Tỉ lệ % (từ 0 đến 100) của mỗi giá trị được sort theo tỉ lệ % giảm dần (ta không xét giá trị thiếu, tỉ lệ là tỉ lệ so với số lượng các giá trị không thiếu): bạn dùng dictionary để lưu, key là giá trị, value là tỉ lệ %; với cột mà ứng với câu hỏi dạng multichoice, cách làm tương tự như ở trên\n",
    "\n",
    "Bạn sẽ lưu kết quả vào DataFrame `cate_col_info_df`, trong đó: \n",
    "- Tên của các cột là tên của các cột không phải số trong `survey_df`\n",
    "- Tên của các dòng là: \"missing_percentage\", \"num_values\", \"value_percentages\"  \n",
    "\n",
    "Để dễ nhìn, tất cả các giá trị bạn đều làm tròn với 1 chữ số thập phân bằng phương thức `.round(1)`.\n",
    "\n",
    "Gợi ý: có thể bạn sẽ muốn dùng [phương thức `explode`](https://pandas.pydata.org/pandas-docs/stable/reference/api/pandas.Series.explode.html)."
   ]
  },
  {
   "cell_type": "code",
   "execution_count": 22,
   "metadata": {},
   "outputs": [],
   "source": [
    "# Các cột ứng với câu hỏi khảo sát multichoice\n",
    "multichoice_cols = ['DevType', 'Gender', 'JobFactors', \n",
    "                    'LanguageWorkedWith', 'LanguageDesireNextYear', \n",
    "                    'MiscTechWorkedWith', 'MiscTechDesireNextYear', \n",
    "                    'NEWCollabToolsWorkedWith', 'NEWCollabToolsDesireNextYear', \n",
    "                    'PlatformWorkedWith', 'PlatformDesireNextYear', \n",
    "                    'NEWStuck']"
   ]
  },
  {
   "cell_type": "code",
   "execution_count": 23,
   "metadata": {
    "deletable": false,
    "nbgrader": {
     "cell_type": "code",
     "checksum": "84e72c4f9ef336aad46d35d52a8c5ee3",
     "grade": false,
     "grade_id": "cell-c1cfa0a88177079d",
     "locked": false,
     "schema_version": 3,
     "solution": true,
     "task": false
    }
   },
   "outputs": [
    {
     "data": {
      "text/html": [
       "<div>\n",
       "<style scoped>\n",
       "    .dataframe tbody tr th:only-of-type {\n",
       "        vertical-align: middle;\n",
       "    }\n",
       "\n",
       "    .dataframe tbody tr th {\n",
       "        vertical-align: top;\n",
       "    }\n",
       "\n",
       "    .dataframe thead th {\n",
       "        text-align: right;\n",
       "    }\n",
       "</style>\n",
       "<table border=\"1\" class=\"dataframe\">\n",
       "  <thead>\n",
       "    <tr style=\"text-align: right;\">\n",
       "      <th></th>\n",
       "      <th>MainBranch</th>\n",
       "      <th>Hobbyist</th>\n",
       "      <th>Country</th>\n",
       "      <th>DevType</th>\n",
       "      <th>EdLevel</th>\n",
       "      <th>Employment</th>\n",
       "      <th>Ethnicity</th>\n",
       "      <th>Gender</th>\n",
       "      <th>JobFactors</th>\n",
       "      <th>JobSat</th>\n",
       "      <th>LanguageDesireNextYear</th>\n",
       "      <th>LanguageWorkedWith</th>\n",
       "      <th>MiscTechDesireNextYear</th>\n",
       "      <th>MiscTechWorkedWith</th>\n",
       "      <th>NEWCollabToolsDesireNextYear</th>\n",
       "      <th>NEWCollabToolsWorkedWith</th>\n",
       "      <th>NEWEdImpt</th>\n",
       "      <th>NEWLearn</th>\n",
       "      <th>NEWOvertime</th>\n",
       "      <th>NEWStuck</th>\n",
       "      <th>OpSys</th>\n",
       "      <th>PlatformDesireNextYear</th>\n",
       "      <th>PlatformWorkedWith</th>\n",
       "    </tr>\n",
       "  </thead>\n",
       "  <tbody>\n",
       "    <tr>\n",
       "      <th>missing_percentage</th>\n",
       "      <td>0.5</td>\n",
       "      <td>0.1</td>\n",
       "      <td>0.6</td>\n",
       "      <td>23.6</td>\n",
       "      <td>11.0</td>\n",
       "      <td>0.9</td>\n",
       "      <td>28.6</td>\n",
       "      <td>21.5</td>\n",
       "      <td>23.4</td>\n",
       "      <td>30.1</td>\n",
       "      <td>16.0</td>\n",
       "      <td>11.0</td>\n",
       "      <td>34.3</td>\n",
       "      <td>37.5</td>\n",
       "      <td>26.6</td>\n",
       "      <td>18.0</td>\n",
       "      <td>25.0</td>\n",
       "      <td>12.9</td>\n",
       "      <td>33.1</td>\n",
       "      <td>14.7</td>\n",
       "      <td>12.8</td>\n",
       "      <td>21.5</td>\n",
       "      <td>16.5</td>\n",
       "    </tr>\n",
       "    <tr>\n",
       "      <th>num_values</th>\n",
       "      <td>5.0</td>\n",
       "      <td>2.0</td>\n",
       "      <td>183.0</td>\n",
       "      <td>23.0</td>\n",
       "      <td>9.0</td>\n",
       "      <td>7.0</td>\n",
       "      <td>204.0</td>\n",
       "      <td>3.0</td>\n",
       "      <td>11.0</td>\n",
       "      <td>5.0</td>\n",
       "      <td>25.0</td>\n",
       "      <td>25.0</td>\n",
       "      <td>19.0</td>\n",
       "      <td>19.0</td>\n",
       "      <td>11.0</td>\n",
       "      <td>11.0</td>\n",
       "      <td>5.0</td>\n",
       "      <td>4.0</td>\n",
       "      <td>5.0</td>\n",
       "      <td>9.0</td>\n",
       "      <td>4.0</td>\n",
       "      <td>16.0</td>\n",
       "      <td>16.0</td>\n",
       "    </tr>\n",
       "    <tr>\n",
       "      <th>value_percentages</th>\n",
       "      <td>{'I am a developer by profession': 73.5, 'I am a student who is learning to code': 12.5, 'I am n...</td>\n",
       "      <td>{'No': 21.8, 'Yes': 78.2}</td>\n",
       "      <td>{'Afghanistan': 0.1, 'Albania': 0.1, 'Algeria': 0.1, 'Andorra': 0.0, 'Angola': 0.0, 'Antigua and...</td>\n",
       "      <td>{'Academic researcher': 2.2, 'Data or business analyst': 2.5, 'Data scientist or machine learnin...</td>\n",
       "      <td>{'Associate degree (A.A., A.S., etc.)': 3.2, 'Bachelor’s degree (B.A., B.S., B.Eng., etc.)': 46....</td>\n",
       "      <td>{'Employed full-time': 70.8, 'Employed part-time': 3.5, 'Independent contractor, freelancer, or ...</td>\n",
       "      <td>{'Biracial': 0.3, 'Biracial;Indigenous (such as Native American, Pacific Islander, or Indigenous...</td>\n",
       "      <td>{'Man': 90.8, 'Non-binary, genderqueer, or gender non-conforming': 1.2, 'Woman': 7.9}</td>\n",
       "      <td>{'Diversity of the company or organization': 2.3, 'Family friendliness': 4.1, 'Financial perform...</td>\n",
       "      <td>{'Neither satisfied nor dissatisfied': 12.8, 'Slightly dissatisfied': 15.8, 'Slightly satisfied'...</td>\n",
       "      <td>{'Assembly': 1.0, 'Bash/Shell/PowerShell': 4.9, 'C': 2.6, 'C#': 5.7, 'C++': 4.1, 'Dart': 2.0, 'G...</td>\n",
       "      <td>{'Assembly': 1.2, 'Bash/Shell/PowerShell': 6.6, 'C': 4.3, 'C#': 6.3, 'C++': 4.8, 'Dart': 0.8, 'G...</td>\n",
       "      <td>{'.NET': 6.9, '.NET Core': 9.6, 'Ansible': 2.9, 'Apache Spark': 3.3, 'Chef': 0.9, 'Cordova': 1.3...</td>\n",
       "      <td>{'.NET': 15.7, '.NET Core': 12.0, 'Ansible': 3.3, 'Apache Spark': 2.3, 'Chef': 0.8, 'Cordova': 2...</td>\n",
       "      <td>{'Confluence': 6.1, 'Facebook Workplace': 1.0, 'Github': 24.7, 'Gitlab': 11.3, 'Google Suite (Do...</td>\n",
       "      <td>{'Confluence': 8.7, 'Facebook Workplace': 0.8, 'Github': 22.2, 'Gitlab': 9.9, 'Google Suite (Doc...</td>\n",
       "      <td>{'Critically important': 9.8, 'Fairly important': 26.2, 'Not at all important/not necessary': 16...</td>\n",
       "      <td>{'Every few months': 37.3, 'Once a decade': 2.2, 'Once a year': 36.9, 'Once every few years': 23.7}</td>\n",
       "      <td>{'Never': 10.9, 'Occasionally: 1-2 days per quarter but less than monthly': 21.9, 'Often: 1-2 da...</td>\n",
       "      <td>{'Call a coworker or friend': 14.7, 'Do other work and come back later': 16.1, 'Go for a walk or...</td>\n",
       "      <td>{'BSD': 0.1, 'Linux-based': 26.6, 'MacOS': 25.1, 'Windows': 48.3}</td>\n",
       "      <td>{'AWS': 9.6, 'Android': 7.9, 'Arduino': 3.6, 'Docker': 12.2, 'Google Cloud Platform': 6.1, 'Hero...</td>\n",
       "      <td>{'AWS': 8.1, 'Android': 7.9, 'Arduino': 3.2, 'Docker': 10.6, 'Google Cloud Platform': 4.2, 'Hero...</td>\n",
       "    </tr>\n",
       "  </tbody>\n",
       "</table>\n",
       "</div>"
      ],
      "text/plain": [
       "                                                                                                             MainBranch                   Hobbyist                                                                                              Country                                                                                              DevType                                                                                              EdLevel                                                                                           Employment                                                                                            Ethnicity                                                                                 Gender                                                                                           JobFactors                                                                                               JobSat                                                                               LanguageDesireNextYear                                                                                   LanguageWorkedWith                                                                               MiscTechDesireNextYear                                                                                   MiscTechWorkedWith                                                                         NEWCollabToolsDesireNextYear                                                                             NEWCollabToolsWorkedWith                                                                                            NEWEdImpt                                                                                             NEWLearn                                                                                          NEWOvertime                                                                                             NEWStuck                                                              OpSys                                                                               PlatformDesireNextYear                                                                                   PlatformWorkedWith\n",
       "missing_percentage                                                                                                  0.5                        0.1                                                                                                  0.6                                                                                                 23.6                                                                                                 11.0                                                                                                  0.9                                                                                                 28.6                                                                                   21.5                                                                                                 23.4                                                                                                 30.1                                                                                                 16.0                                                                                                 11.0                                                                                                 34.3                                                                                                 37.5                                                                                                 26.6                                                                                                 18.0                                                                                                 25.0                                                                                                 12.9                                                                                                 33.1                                                                                                 14.7                                                               12.8                                                                                                 21.5                                                                                                 16.5\n",
       "num_values                                                                                                          5.0                        2.0                                                                                                183.0                                                                                                 23.0                                                                                                  9.0                                                                                                  7.0                                                                                                204.0                                                                                    3.0                                                                                                 11.0                                                                                                  5.0                                                                                                 25.0                                                                                                 25.0                                                                                                 19.0                                                                                                 19.0                                                                                                 11.0                                                                                                 11.0                                                                                                  5.0                                                                                                  4.0                                                                                                  5.0                                                                                                  9.0                                                                4.0                                                                                                 16.0                                                                                                 16.0\n",
       "value_percentages   {'I am a developer by profession': 73.5, 'I am a student who is learning to code': 12.5, 'I am n...  {'No': 21.8, 'Yes': 78.2}  {'Afghanistan': 0.1, 'Albania': 0.1, 'Algeria': 0.1, 'Andorra': 0.0, 'Angola': 0.0, 'Antigua and...  {'Academic researcher': 2.2, 'Data or business analyst': 2.5, 'Data scientist or machine learnin...  {'Associate degree (A.A., A.S., etc.)': 3.2, 'Bachelor’s degree (B.A., B.S., B.Eng., etc.)': 46....  {'Employed full-time': 70.8, 'Employed part-time': 3.5, 'Independent contractor, freelancer, or ...  {'Biracial': 0.3, 'Biracial;Indigenous (such as Native American, Pacific Islander, or Indigenous...  {'Man': 90.8, 'Non-binary, genderqueer, or gender non-conforming': 1.2, 'Woman': 7.9}  {'Diversity of the company or organization': 2.3, 'Family friendliness': 4.1, 'Financial perform...  {'Neither satisfied nor dissatisfied': 12.8, 'Slightly dissatisfied': 15.8, 'Slightly satisfied'...  {'Assembly': 1.0, 'Bash/Shell/PowerShell': 4.9, 'C': 2.6, 'C#': 5.7, 'C++': 4.1, 'Dart': 2.0, 'G...  {'Assembly': 1.2, 'Bash/Shell/PowerShell': 6.6, 'C': 4.3, 'C#': 6.3, 'C++': 4.8, 'Dart': 0.8, 'G...  {'.NET': 6.9, '.NET Core': 9.6, 'Ansible': 2.9, 'Apache Spark': 3.3, 'Chef': 0.9, 'Cordova': 1.3...  {'.NET': 15.7, '.NET Core': 12.0, 'Ansible': 3.3, 'Apache Spark': 2.3, 'Chef': 0.8, 'Cordova': 2...  {'Confluence': 6.1, 'Facebook Workplace': 1.0, 'Github': 24.7, 'Gitlab': 11.3, 'Google Suite (Do...  {'Confluence': 8.7, 'Facebook Workplace': 0.8, 'Github': 22.2, 'Gitlab': 9.9, 'Google Suite (Doc...  {'Critically important': 9.8, 'Fairly important': 26.2, 'Not at all important/not necessary': 16...  {'Every few months': 37.3, 'Once a decade': 2.2, 'Once a year': 36.9, 'Once every few years': 23.7}  {'Never': 10.9, 'Occasionally: 1-2 days per quarter but less than monthly': 21.9, 'Often: 1-2 da...  {'Call a coworker or friend': 14.7, 'Do other work and come back later': 16.1, 'Go for a walk or...  {'BSD': 0.1, 'Linux-based': 26.6, 'MacOS': 25.1, 'Windows': 48.3}  {'AWS': 9.6, 'Android': 7.9, 'Arduino': 3.6, 'Docker': 12.2, 'Google Cloud Platform': 6.1, 'Hero...  {'AWS': 8.1, 'Android': 7.9, 'Arduino': 3.2, 'Docker': 10.6, 'Google Cloud Platform': 4.2, 'Hero..."
      ]
     },
     "execution_count": 23,
     "metadata": {},
     "output_type": "execute_result"
    }
   ],
   "source": [
    "pd.set_option('display.max_colwidth', 100) # Để dễ nhìn\n",
    "pd.set_option('display.max_columns', None) # Để dễ nhìn\n",
    "# YOUR CODE HERE\n",
    "col_cate = survey_df.select_dtypes(include = None, exclude = ['float64'])\n",
    "missing_percentage = round((((col_cate.isna().sum())/len(survey_df)) * 100),1)\n",
    "missing_percentage = (missing_percentage.to_frame()).rename(columns={0:'missing_percentage'})\n",
    "cate_col_info_df = missing_percentage.T\n",
    "\n",
    "num_values_temp = {}\n",
    "value_percent_temp = {}\n",
    "for i in col_cate:\n",
    "    value_percent_list = []\n",
    "    if i in multichoice_cols:\n",
    "        temp = survey_df[i].str.get_dummies(sep = ';').sum() #get_dummies này em tham khảo được trên stackoverflow,nó trả ra\n",
    "        total_temp = temp.sum()                              # 1 series có index là tên dữ liệu và value là số lần xuất hiện\n",
    "        num_values_list = list(temp.index)\n",
    "        num_values_temp[i] = len(temp)\n",
    "        value_percent_temp[i] = {}\n",
    "        for j in num_values_list:\n",
    "            value_percent_temp[i][j] = round((temp[j] / total_temp * 100),1)\n",
    "    else:\n",
    "        temp = survey_df[i].str.get_dummies().sum()\n",
    "        total_temp = temp.sum()\n",
    "        num_values_list = list(temp.index)\n",
    "        num_values_temp[i] = len(temp)\n",
    "        value_percent_temp[i] = {}\n",
    "        for j in num_values_list:\n",
    "            value_percent_temp[i][j] = round((temp[j] / total_temp * 100),1)      \n",
    "num_values_final = pd.DataFrame.from_dict(num_values_temp,orient='index').rename(columns={0:'num_values'}).T\n",
    "cate_col_info_df = cate_col_info_df.append(num_values_final)\n",
    "value_percentage_final = []\n",
    "for col, values in value_percent_temp.items():\n",
    "    value_percentage_final.append(tuple((col, values)))\n",
    "value_percentage_final = pd.DataFrame(value_percentage_final, index=value_percent_temp.keys(), columns=['0', 'value_percentages']).drop(columns=['0']).T\n",
    "cate_col_info_df = cate_col_info_df.append(value_percentage_final)\n",
    "#raise NotImplementedError()\n",
    "cate_col_info_df"
   ]
  },
  {
   "cell_type": "code",
   "execution_count": 24,
   "metadata": {
    "deletable": false,
    "editable": false,
    "nbgrader": {
     "cell_type": "code",
     "checksum": "fe2ab946f8702d5d5233c4746646bae7",
     "grade": true,
     "grade_id": "cell-e748038de60d2ab7",
     "locked": true,
     "points": 1,
     "schema_version": 3,
     "solution": false,
     "task": false
    }
   },
   "outputs": [],
   "source": [
    "# TEST\n",
    "c = cate_col_info_df['MainBranch']\n",
    "assert c.loc['missing_percentage'] == 0.5\n",
    "assert c.loc['num_values'] == 5\n",
    "assert c.loc['value_percentages']['I am a developer by profession'] == 73.5\n",
    "\n",
    "c = cate_col_info_df['Hobbyist']\n",
    "assert c.loc['missing_percentage'] == 0.1\n",
    "assert c.loc['num_values'] == 2\n",
    "assert c.loc['value_percentages']['Yes'] == 78.2\n",
    "\n",
    "c = cate_col_info_df['DevType']\n",
    "assert c.loc['missing_percentage'] == 23.6\n",
    "assert c.loc['num_values'] == 23\n",
    "assert c.loc['value_percentages']['Academic researcher'] == 2.2\n",
    "\n",
    "c = cate_col_info_df['PlatformWorkedWith']\n",
    "assert c.loc['missing_percentage'] == 16.5\n",
    "assert c.loc['num_values'] == 16\n",
    "assert c.loc['value_percentages']['Docker'] == 10.6"
   ]
  },
  {
   "cell_type": "markdown",
   "metadata": {},
   "source": [
    "---"
   ]
  },
  {
   "cell_type": "markdown",
   "metadata": {},
   "source": [
    "## Đặt câu hỏi "
   ]
  },
  {
   "cell_type": "markdown",
   "metadata": {},
   "source": [
    "Sau khi khám phá dữ liệu, ta đã hiểu hơn về dữ liệu. Bây giờ, ta hãy xem thử có câu hỏi nào có thể được trả lời bằng dữ liệu này.\n",
    "\n",
    "**Một câu hỏi có thể có là:** Platform nào (Windows, Linux, Docker, AWS, ...) được yêu thích nhất, platform nào được yêu thích nhì, platform nào được yêu thích ba, ...?\n",
    "\n",
    "Một platform được xem là được yêu thích nếu một người đã dùng platform này (cột \"PlatformWorkedWith\") và muốn tiếp tục dùng platform trong năm kế (cột \"PlatformDesireNextYear\").\n",
    "\n",
    "**Trả lời được câu hỏi này sẽ** phần nào giúp ta định hướng là nên tập trung học platform nào để có thể chuẩn bị cho tương lai (mình nói \"phần nào\" vì ở đây dữ liệu chỉ giới hạn trong phạm vi những người làm khảo sát của StackOverflow)."
   ]
  },
  {
   "cell_type": "markdown",
   "metadata": {},
   "source": [
    "---"
   ]
  },
  {
   "cell_type": "markdown",
   "metadata": {},
   "source": [
    "## Tiền xử lý"
   ]
  },
  {
   "cell_type": "markdown",
   "metadata": {},
   "source": [
    "Nếu bạn thấy cần thực hiện thêm thao tác tiền xử lý để chuẩn bị dữ liệu cho bước phân tích thì bạn làm ở đây. Bước này là không bắt buộc. "
   ]
  },
  {
   "cell_type": "code",
   "execution_count": 25,
   "metadata": {},
   "outputs": [],
   "source": [
    "# YOUR CODE HERE (OPTION) "
   ]
  },
  {
   "cell_type": "markdown",
   "metadata": {},
   "source": [
    "---"
   ]
  },
  {
   "cell_type": "markdown",
   "metadata": {},
   "source": [
    "## Phân tích dữ liệu (2.25đ)"
   ]
  },
  {
   "cell_type": "markdown",
   "metadata": {},
   "source": [
    "Bây giờ, bạn sẽ thực hiện phân tích dữ liệu để trả lời cho câu hỏi ở trên. Cụ thể các bước như sau:\n",
    "- Bước 1: tính Series `most_loved_platforms`, trong đó: \n",
    "    - Index là tên flatform (ở bước khám phá dữ liệu, bạn đã thấy có tất cả 16 platform)\n",
    "    - Data là tỉ lệ % (từ 0 đến 100, được làm tròn với một chữ số thập phân bằng phương thức `round(1)`) được yêu thích (được sort giảm dần) \n",
    "- Bước 2: từ Series `most_loved_platforms`, bạn vẽ bar chart:\n",
    "    - Bạn cho các bar nằm ngang (cho dễ nhìn)\n",
    "    - Bạn đặt tên trục hoành là \"Tỉ lệ %\""
   ]
  },
  {
   "cell_type": "markdown",
   "metadata": {},
   "source": [
    "Code bước 1."
   ]
  },
  {
   "cell_type": "code",
   "execution_count": 26,
   "metadata": {
    "deletable": false,
    "nbgrader": {
     "cell_type": "code",
     "checksum": "0a9055745bab2ee00733aac0a056b17f",
     "grade": false,
     "grade_id": "cell-6d34c88e2fd46b33",
     "locked": false,
     "schema_version": 3,
     "solution": true,
     "task": false
    }
   },
   "outputs": [
    {
     "data": {
      "text/plain": [
       "Linux                          20.2\n",
       "Windows                        14.6\n",
       "Docker                         12.3\n",
       "AWS                             8.5\n",
       "MacOS                           7.4\n",
       "Android                         7.1\n",
       "Raspberry Pi                    4.7\n",
       "Microsoft Azure                 4.3\n",
       "Google Cloud Platform           4.1\n",
       "Kubernetes                      3.9\n",
       "iOS                             3.5\n",
       "Arduino                         2.7\n",
       "Heroku                          2.4\n",
       "WordPress                       2.2\n",
       "Slack Apps and Integrations     1.8\n",
       "IBM Cloud or Watson             0.3\n",
       "dtype: float64"
      ]
     },
     "execution_count": 26,
     "metadata": {},
     "output_type": "execute_result"
    }
   ],
   "source": [
    "# YOUR CODE HERE\n",
    "platform = list(survey_df['PlatformDesireNextYear'].str.get_dummies(sep = ';').sum().index)\n",
    "full_loved_platform = []\n",
    "total_loved = 0\n",
    "percent_platform = []\n",
    "for i in range(0,16): #chứa thông tin các platform\n",
    "    full_loved_platform.append([])\n",
    "for i in range(0,16): # xử lý từng tên platform một\n",
    "    full_loved_platform[i] = survey_df[survey_df['PlatformWorkedWith'].str.contains(platform[i]) & survey_df['PlatformDesireNextYear'].str.contains(platform[i])]\n",
    "    total_loved += len(full_loved_platform[i])\n",
    "for i in range(0,16): # tính phần trăm\n",
    "    percent = round((len(full_loved_platform[i])/total_loved)*100, 1)\n",
    "    percent_platform.append(percent)\n",
    "most_loved_platforms = pd.Series(percent_platform, platform)\n",
    "most_loved_platforms.sort_values(ascending=False, inplace=True)\n",
    "#raise NotImplementedError()\n",
    "most_loved_platforms"
   ]
  },
  {
   "cell_type": "code",
   "execution_count": 27,
   "metadata": {
    "deletable": false,
    "editable": false,
    "nbgrader": {
     "cell_type": "code",
     "checksum": "0e1af6ae8a0d65cf90e9d8d9276bf6bb",
     "grade": true,
     "grade_id": "cell-1d22896d0f3f2394",
     "locked": true,
     "points": 2,
     "schema_version": 3,
     "solution": false,
     "task": false
    }
   },
   "outputs": [],
   "source": [
    "# TEST\n",
    "assert len(most_loved_platforms) == 16\n",
    "assert most_loved_platforms.loc['Linux'] == 20.2\n",
    "assert most_loved_platforms.loc['Windows'] == 14.6\n",
    "assert most_loved_platforms.loc['Docker'] == 12.3"
   ]
  },
  {
   "cell_type": "markdown",
   "metadata": {},
   "source": [
    "Code bước 2."
   ]
  },
  {
   "cell_type": "code",
   "execution_count": 28,
   "metadata": {
    "deletable": false,
    "nbgrader": {
     "cell_type": "code",
     "checksum": "e9113040c23a1b8cbfde861c4efe685f",
     "grade": true,
     "grade_id": "cell-5395c611d6065339",
     "locked": false,
     "points": 0.25,
     "schema_version": 3,
     "solution": true,
     "task": false
    }
   },
   "outputs": [
    {
     "data": {
      "text/plain": [
       "Text(0.5, 0, 'Tỉ lệ %')"
      ]
     },
     "execution_count": 28,
     "metadata": {},
     "output_type": "execute_result"
    },
    {
     "data": {
      "image/png": "[encoded data removed]",
      "text/plain": [
       "<Figure size 720x720 with 1 Axes>"
      ]
     },
     "metadata": {
      "needs_background": "light"
     },
     "output_type": "display_data"
    }
   ],
   "source": [
    "# YOUR CODE HERE\n",
    "plt.figure(figsize=(10, 10))\n",
    "plt.barh(most_loved_platforms.index, most_loved_platforms)\n",
    "plt.xlabel('Tỉ lệ %')\n",
    "#raise NotImplementedError()"
   ]
  },
  {
   "cell_type": "markdown",
   "metadata": {},
   "source": [
    "Bạn đã hiểu tại sao mình khuyên bạn là nên tập làm quen dần với các câu lệnh của Linux chưa 😉 "
   ]
  },
  {
   "cell_type": "markdown",
   "metadata": {},
   "source": [
    "---"
   ]
  },
  {
   "cell_type": "markdown",
   "metadata": {},
   "source": [
    "## Đặt câu hỏi của bạn (1.5đ)"
   ]
  },
  {
   "cell_type": "markdown",
   "metadata": {},
   "source": [
    "Bây giờ, đến lượt bạn phải tự suy nghĩ và đưa ra câu hỏi mà có thể trả lời bằng dữ liệu. Ngoài việc đưa ra câu hỏi, bạn cũng phải giải thích để người đọc thấy nếu trả lời được câu hỏi thì sẽ có lợi ích gì. Bạn nên sáng tạo một xíu, không nên đưa ra câu hỏi cùng dạng với câu hỏi của mình ở trên.  "
   ]
  },
  {
   "cell_type": "markdown",
   "metadata": {
    "deletable": false,
    "nbgrader": {
     "cell_type": "markdown",
     "checksum": "8e88fb70d5a2aac41af1566276a95321",
     "grade": true,
     "grade_id": "cell-2e7a92ae99ca7449",
     "locked": false,
     "points": 1.5,
     "schema_version": 3,
     "solution": true,
     "task": false
    }
   },
   "source": [
    "Một vấn đề em nghĩ ra đó là: Tìm hiểu về mức lương của những người tham gia khảo sát và số năm làm việc chuyên nghiệp của họ. Liệu có phải trong lĩnh vực IT thì càng làm lâu, càng có nhiều kinh nghiệm làm việc, tiếp xúc với công nghệ lâu thì sẽ dễ có được mức thu nhập cao hơn so với những tân binh, những người trẻ mới vào nghề hay không?Hay việc thu nhập cao hay thấp còn có yếu tố nào ảnh hưởng tới nữa?"
   ]
  },
  {
   "cell_type": "markdown",
   "metadata": {},
   "source": [
    "---"
   ]
  },
  {
   "cell_type": "markdown",
   "metadata": {},
   "source": [
    "## Tiền xử lý để chuẩn bị dữ liệu cho bước phân tích để trả lời cho câu hỏi của bạn"
   ]
  },
  {
   "cell_type": "markdown",
   "metadata": {},
   "source": [
    "Phần này là không bắt buộc. "
   ]
  },
  {
   "cell_type": "code",
   "execution_count": 29,
   "metadata": {},
   "outputs": [],
   "source": [
    "# YOUR CODE HERE (OPTION) \n",
    "#bỏ đi những dòng mà YearsCodePro hoặc ConvertedComp trống\n",
    "temp_df = survey_df[survey_df['YearsCodePro'].isnull() | survey_df['ConvertedComp'].isnull()]\n",
    "survey_df.drop(temp_df.index,axis=0,inplace=True)"
   ]
  },
  {
   "cell_type": "markdown",
   "metadata": {},
   "source": [
    "---"
   ]
  },
  {
   "cell_type": "markdown",
   "metadata": {},
   "source": [
    "## Phân tích dữ liệu để ra câu trả lời cho câu hỏi của bạn (2đ)"
   ]
  },
  {
   "cell_type": "code",
   "execution_count": 39,
   "metadata": {
    "deletable": false,
    "nbgrader": {
     "cell_type": "code",
     "checksum": "57f44ba4e568b05148da80fc7161fc97",
     "grade": true,
     "grade_id": "cell-83e11892184cf811",
     "locked": false,
     "points": 2,
     "schema_version": 3,
     "solution": true,
     "task": false
    }
   },
   "outputs": [
    {
     "data": {
      "text/plain": [
       "[<matplotlib.lines.Line2D at 0x1202e34b910>]"
      ]
     },
     "execution_count": 39,
     "metadata": {},
     "output_type": "execute_result"
    },
    {
     "data": {
      "image/png": "[encoded data removed]",
      "text/plain": [
       "<Figure size 2160x2160 with 1 Axes>"
      ]
     },
     "metadata": {
      "needs_background": "light"
     },
     "output_type": "display_data"
    }
   ],
   "source": [
    "# YOUR CODE HERE\n",
    "df_to_draw = survey_df[['ConvertedComp','YearsCodePro']]\n",
    "m, b = np.polyfit(df_to_draw['YearsCodePro'], df_to_draw['ConvertedComp'],1)\n",
    "plt.figure(figsize=(30,30))\n",
    "plt.scatter(df_to_draw['YearsCodePro'],df_to_draw['ConvertedComp'], s = 15, c ='black')\n",
    "plt.xlabel('Số năm kinh nghiệm')\n",
    "plt.ylabel('Mức lương')\n",
    "plt.plot(df_to_draw['YearsCodePro'], m*df_to_draw['YearsCodePro'] + b)\n",
    "#raise NotImplementedError()\n",
    "#nhận xét về câu hỏi đặt ra: dựa vào biểu đồ scatter ở dưới thì có thể thấy được rằng không phải luôn luôn nhất thiết tuổi nghề \n",
    "#phải nhiều, phải có nhiều kinh nghiệm thì thu nhập mới cao, vẫn có khá nhiều trường hợp tuổi nghề còn trẻ nhưng mức thu nhập\n",
    "#vẫn khá cao so với con số trung bình. Tuy nhiên nhìn vào đường kẻ hồi quy thì ta cũng thấy được rằng đúng là nếu càng làm lâu\n",
    "#trong nghề thì mức thu nhập nói chung vẫn sẽ tăng nên nếu kết luận là tuổi nghề cao thì mức lương cao cũng mang tính tổng quát\n",
    "#nhất định dựa trên số liệu(do có một số outlier nên biểu đồ trông hơi khó để nhìn ra)"
   ]
  }
 ],
 "metadata": {
  "kernelspec": {
   "display_name": "Python 3 (ipykernel)",
   "language": "python",
   "name": "python3"
  },
  "language_info": {
   "codemirror_mode": {
    "name": "ipython",
    "version": 3
   },
   "file_extension": ".py",
   "mimetype": "text/x-python",
   "name": "python",
   "nbconvert_exporter": "python",
   "pygments_lexer": "ipython3",
   "version": "3.8.8"
  },
  "toc": {
   "base_numbering": 1,
   "nav_menu": {},
   "number_sections": false,
   "sideBar": true,
   "skip_h1_title": true,
   "title_cell": "Table of Contents",
   "title_sidebar": "Contents",
   "toc_cell": false,
   "toc_position": {
    "height": "calc(100% - 180px)",
    "left": "10px",
    "top": "150px",
    "width": "175px"
   },
   "toc_section_display": true,
   "toc_window_display": true
  }
 },
 "nbformat": 4,
 "nbformat_minor": 4
}
