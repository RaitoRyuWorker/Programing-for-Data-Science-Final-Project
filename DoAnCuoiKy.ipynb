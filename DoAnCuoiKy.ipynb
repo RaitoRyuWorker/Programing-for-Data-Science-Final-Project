{
 "cells": [
  {
   "cell_type": "markdown",
   "metadata": {},
   "source": [
    "# Đồ án cuối kỳ - Môn Lập trình khoa học dữ liệu\n",
    "# Giáo viên giảng dạy: Thầy Trần Trung Kiên\n",
    "## Sinh viên thực hiện:\n",
    "\n",
    "                        Tạ Võ Anh Khuê - 19120551\n",
    "\n",
    "                        Nguyễn Minh Long - 19120568"
   ]
  },
  {
   "cell_type": "markdown",
   "metadata": {},
   "source": [
    "---"
   ]
  },
  {
   "cell_type": "markdown",
   "metadata": {},
   "source": [
    "## Import"
   ]
  },
  {
   "cell_type": "code",
   "execution_count": 1,
   "metadata": {},
   "outputs": [],
   "source": [
    "import matplotlib.pyplot as plt\n",
    "import numpy as np\n",
    "import pandas as pd "
   ]
  },
  {
   "cell_type": "markdown",
   "metadata": {},
   "source": [
    "---"
   ]
  },
  {
   "cell_type": "markdown",
   "metadata": {},
   "source": [
    "## Thu thập dữ liệu"
   ]
  },
  {
   "cell_type": "markdown",
   "metadata": {},
   "source": [
    "Dữ liệu được sử dụng trong bài tập này là dữ liệu về các phàn nàn, khiếu nại của người dùng được gửi tới CFBP(Consumer Financial Protection Bureau) - tạm gọi là Cục Bảo Vệ Tài Chính Cho Người Tiêu Dùng. Dữ liệu được lấy [ở đây](https://www.kaggle.com/meetnagadia/consumer-complaint-finance). \n",
    "\n",
    "Cục Bảo Vệ Tài Chính Cho Người Tiêu Dùng (CFPB) là một cơ quan của chính phủ liên bang Mỹ được thành lập để bảo đảm sự hiệu quả của những sản phẩm và dịch vụ tài chính cho mọi người như mua nhà, chọn lựa một thẻ tín dụng, gửi tiền cho người thân ở nước ngoài, hoặc khi sử dụng bất cứ loại sản phẩm tài chánh khác ở Mỹ.\n",
    "Cục có chức năng giám sát hoạt động của các ngân hàng, liên hiệp tín dụng (credit union), những công ty tài chính khác và thi hành những quy luật tài chính để bảo vệ người dùng tránh khỏi các hành vi bất công, dối trá và lạm dụng.\n",
    "\n",
    "Đôi nét về dữ liệu này: Dữ liệu thể hiện các complaint(khiếu nại, phàn nàn) của người dùng về các vấn đề tài chính mà họ gặp phải. Người dùng trình báo lên Cục Bảo Vệ(CFBP) và cục có trách nhiệm liên lạc và trao đổi, chuyển tiếp thông tin giúp người dùng tới các công ty liên quan. Dữ liệu được công khai ghi nhận(published) bởi CFPB sau khi mà các công ty phản hồi, xác nhận có liên quan đến các vấn đề của người dùng hoặc sau 15 ngày, tùy điều kiện nào đến trước."
   ]
  },
  {
   "cell_type": "markdown",
   "metadata": {},
   "source": [
    "---"
   ]
  },
  {
   "cell_type": "markdown",
   "metadata": {},
   "source": [
    "## Khám phá dữ liệu - Currently Working"
   ]
  },
  {
   "cell_type": "markdown",
   "metadata": {},
   "source": [
    "## Đọc dữ liệu từ file"
   ]
  },
  {
   "cell_type": "markdown",
   "metadata": {},
   "source": [
    "Dữ liệu được đặt chung cấp folder của file noteboook, đọc vào bằng hàm read_csv đơn giản, không có gì phức tạp trong phần này."
   ]
  },
  {
   "cell_type": "code",
   "execution_count": 2,
   "metadata": {
    "deletable": false,
    "nbgrader": {
     "cell_type": "code",
     "checksum": "0bf411943f48101b385795cb06db43f4",
     "grade": true,
     "grade_id": "cell-d46e97079096473c",
     "locked": false,
     "points": 0.25,
     "schema_version": 3,
     "solution": true,
     "task": false
    }
   },
   "outputs": [
    {
     "name": "stderr",
     "output_type": "stream",
     "text": [
      "D:\\Miniconda\\envs\\min_ds-env\\lib\\site-packages\\IPython\\core\\interactiveshell.py:3172: DtypeWarning: Columns (9) have mixed types.Specify dtype option on import or set low_memory=False.\n",
      "  has_raised = await self.run_ast_nodes(code_ast.body, cell_name,\n"
     ]
    },
    {
     "data": {
      "text/html": [
       "<div>\n",
       "<style scoped>\n",
       "    .dataframe tbody tr th:only-of-type {\n",
       "        vertical-align: middle;\n",
       "    }\n",
       "\n",
       "    .dataframe tbody tr th {\n",
       "        vertical-align: top;\n",
       "    }\n",
       "\n",
       "    .dataframe thead th {\n",
       "        text-align: right;\n",
       "    }\n",
       "</style>\n",
       "<table border=\"1\" class=\"dataframe\">\n",
       "  <thead>\n",
       "    <tr style=\"text-align: right;\">\n",
       "      <th></th>\n",
       "      <th>Date received</th>\n",
       "      <th>Product</th>\n",
       "      <th>Sub-product</th>\n",
       "      <th>Issue</th>\n",
       "      <th>Sub-issue</th>\n",
       "      <th>Consumer complaint narrative</th>\n",
       "      <th>Company public response</th>\n",
       "      <th>Company</th>\n",
       "      <th>State</th>\n",
       "      <th>ZIP code</th>\n",
       "      <th>Tags</th>\n",
       "      <th>Consumer consent provided?</th>\n",
       "      <th>Submitted via</th>\n",
       "      <th>Date sent to company</th>\n",
       "      <th>Company response to consumer</th>\n",
       "      <th>Timely response?</th>\n",
       "      <th>Consumer disputed?</th>\n",
       "      <th>Complaint ID</th>\n",
       "    </tr>\n",
       "  </thead>\n",
       "  <tbody>\n",
       "    <tr>\n",
       "      <th>0</th>\n",
       "      <td>2019-06-13</td>\n",
       "      <td>Credit reporting, credit repair services, or o...</td>\n",
       "      <td>Credit reporting</td>\n",
       "      <td>Incorrect information on your report</td>\n",
       "      <td>Information belongs to someone else</td>\n",
       "      <td>NaN</td>\n",
       "      <td>NaN</td>\n",
       "      <td>CAPITAL ONE FINANCIAL CORPORATION</td>\n",
       "      <td>PA</td>\n",
       "      <td>18640.0</td>\n",
       "      <td>NaN</td>\n",
       "      <td>Consent not provided</td>\n",
       "      <td>Web</td>\n",
       "      <td>2019-06-13</td>\n",
       "      <td>Closed with explanation</td>\n",
       "      <td>Yes</td>\n",
       "      <td>NaN</td>\n",
       "      <td>3274605</td>\n",
       "    </tr>\n",
       "    <tr>\n",
       "      <th>1</th>\n",
       "      <td>2019-11-01</td>\n",
       "      <td>Vehicle loan or lease</td>\n",
       "      <td>Loan</td>\n",
       "      <td>Struggling to pay your loan</td>\n",
       "      <td>Denied request to lower payments</td>\n",
       "      <td>I contacted Ally on Friday XX/XX/XXXX after fa...</td>\n",
       "      <td>Company has responded to the consumer and the ...</td>\n",
       "      <td>ALLY FINANCIAL INC.</td>\n",
       "      <td>NJ</td>\n",
       "      <td>8854.0</td>\n",
       "      <td>NaN</td>\n",
       "      <td>Consent provided</td>\n",
       "      <td>Web</td>\n",
       "      <td>2019-11-01</td>\n",
       "      <td>Closed with explanation</td>\n",
       "      <td>Yes</td>\n",
       "      <td>NaN</td>\n",
       "      <td>3425257</td>\n",
       "    </tr>\n",
       "    <tr>\n",
       "      <th>2</th>\n",
       "      <td>2019-04-01</td>\n",
       "      <td>Credit reporting, credit repair services, or o...</td>\n",
       "      <td>Credit reporting</td>\n",
       "      <td>Incorrect information on your report</td>\n",
       "      <td>Account status incorrect</td>\n",
       "      <td>NaN</td>\n",
       "      <td>Company has responded to the consumer and the ...</td>\n",
       "      <td>TRANSUNION INTERMEDIATE HOLDINGS, INC.</td>\n",
       "      <td>PA</td>\n",
       "      <td>19067.0</td>\n",
       "      <td>NaN</td>\n",
       "      <td>Consent not provided</td>\n",
       "      <td>Web</td>\n",
       "      <td>2019-04-01</td>\n",
       "      <td>Closed with explanation</td>\n",
       "      <td>Yes</td>\n",
       "      <td>NaN</td>\n",
       "      <td>3198225</td>\n",
       "    </tr>\n",
       "    <tr>\n",
       "      <th>3</th>\n",
       "      <td>2019-04-10</td>\n",
       "      <td>Credit card or prepaid card</td>\n",
       "      <td>Store credit card</td>\n",
       "      <td>Closing your account</td>\n",
       "      <td>Can't close your account</td>\n",
       "      <td>NaN</td>\n",
       "      <td>Company believes it acted appropriately as aut...</td>\n",
       "      <td>Atlanticus Services Corporation</td>\n",
       "      <td>WI</td>\n",
       "      <td>54409.0</td>\n",
       "      <td>Older American</td>\n",
       "      <td>NaN</td>\n",
       "      <td>Referral</td>\n",
       "      <td>2019-04-16</td>\n",
       "      <td>Closed with explanation</td>\n",
       "      <td>No</td>\n",
       "      <td>NaN</td>\n",
       "      <td>3207424</td>\n",
       "    </tr>\n",
       "    <tr>\n",
       "      <th>4</th>\n",
       "      <td>2020-04-21</td>\n",
       "      <td>Credit reporting, credit repair services, or o...</td>\n",
       "      <td>Credit reporting</td>\n",
       "      <td>Incorrect information on your report</td>\n",
       "      <td>Account information incorrect</td>\n",
       "      <td>Capital One Auto Finance incorrectly and witho...</td>\n",
       "      <td>NaN</td>\n",
       "      <td>CAPITAL ONE FINANCIAL CORPORATION</td>\n",
       "      <td>GA</td>\n",
       "      <td>30024.0</td>\n",
       "      <td>NaN</td>\n",
       "      <td>Consent provided</td>\n",
       "      <td>Web</td>\n",
       "      <td>2020-04-21</td>\n",
       "      <td>Closed with explanation</td>\n",
       "      <td>Yes</td>\n",
       "      <td>NaN</td>\n",
       "      <td>3616748</td>\n",
       "    </tr>\n",
       "  </tbody>\n",
       "</table>\n",
       "</div>"
      ],
      "text/plain": [
       "  Date received                                            Product  \\\n",
       "0    2019-06-13  Credit reporting, credit repair services, or o...   \n",
       "1    2019-11-01                              Vehicle loan or lease   \n",
       "2    2019-04-01  Credit reporting, credit repair services, or o...   \n",
       "3    2019-04-10                        Credit card or prepaid card   \n",
       "4    2020-04-21  Credit reporting, credit repair services, or o...   \n",
       "\n",
       "         Sub-product                                 Issue  \\\n",
       "0   Credit reporting  Incorrect information on your report   \n",
       "1               Loan           Struggling to pay your loan   \n",
       "2   Credit reporting  Incorrect information on your report   \n",
       "3  Store credit card                  Closing your account   \n",
       "4   Credit reporting  Incorrect information on your report   \n",
       "\n",
       "                             Sub-issue  \\\n",
       "0  Information belongs to someone else   \n",
       "1     Denied request to lower payments   \n",
       "2             Account status incorrect   \n",
       "3             Can't close your account   \n",
       "4        Account information incorrect   \n",
       "\n",
       "                        Consumer complaint narrative  \\\n",
       "0                                                NaN   \n",
       "1  I contacted Ally on Friday XX/XX/XXXX after fa...   \n",
       "2                                                NaN   \n",
       "3                                                NaN   \n",
       "4  Capital One Auto Finance incorrectly and witho...   \n",
       "\n",
       "                             Company public response  \\\n",
       "0                                                NaN   \n",
       "1  Company has responded to the consumer and the ...   \n",
       "2  Company has responded to the consumer and the ...   \n",
       "3  Company believes it acted appropriately as aut...   \n",
       "4                                                NaN   \n",
       "\n",
       "                                  Company State ZIP code            Tags  \\\n",
       "0       CAPITAL ONE FINANCIAL CORPORATION    PA  18640.0             NaN   \n",
       "1                     ALLY FINANCIAL INC.    NJ   8854.0             NaN   \n",
       "2  TRANSUNION INTERMEDIATE HOLDINGS, INC.    PA  19067.0             NaN   \n",
       "3         Atlanticus Services Corporation    WI  54409.0  Older American   \n",
       "4       CAPITAL ONE FINANCIAL CORPORATION    GA  30024.0             NaN   \n",
       "\n",
       "  Consumer consent provided? Submitted via Date sent to company  \\\n",
       "0       Consent not provided           Web           2019-06-13   \n",
       "1           Consent provided           Web           2019-11-01   \n",
       "2       Consent not provided           Web           2019-04-01   \n",
       "3                        NaN      Referral           2019-04-16   \n",
       "4           Consent provided           Web           2020-04-21   \n",
       "\n",
       "  Company response to consumer Timely response? Consumer disputed?  \\\n",
       "0      Closed with explanation              Yes                NaN   \n",
       "1      Closed with explanation              Yes                NaN   \n",
       "2      Closed with explanation              Yes                NaN   \n",
       "3      Closed with explanation               No                NaN   \n",
       "4      Closed with explanation              Yes                NaN   \n",
       "\n",
       "   Complaint ID  \n",
       "0       3274605  \n",
       "1       3425257  \n",
       "2       3198225  \n",
       "3       3207424  \n",
       "4       3616748  "
      ]
     },
     "execution_count": 2,
     "metadata": {},
     "output_type": "execute_result"
    }
   ],
   "source": [
    "df = pd.read_csv('complaints.csv')\n",
    "df.head()"
   ]
  },
  {
   "cell_type": "markdown",
   "metadata": {},
   "source": [
    "Xử lý một chút về cột dữ liệu Tags, ta có thể thấy giá trị cột Tags bị thiếu quá nhiều, gần 90% giá trị bị thiếu ở cột này => Ta có thể bỏ cột này đi vì gần như nó không đóng góp gì cho việc phân tích dữ liệu sau này"
   ]
  },
  {
   "cell_type": "code",
   "execution_count": 3,
   "metadata": {},
   "outputs": [
    {
     "data": {
      "text/plain": [
       "87.88"
      ]
     },
     "execution_count": 3,
     "metadata": {},
     "output_type": "execute_result"
    }
   ],
   "source": [
    "round(df['Tags'].isna().sum()/len(df) * 100, 2)"
   ]
  },
  {
   "cell_type": "code",
   "execution_count": 4,
   "metadata": {},
   "outputs": [],
   "source": [
    "df = df.drop('Tags',axis=1)"
   ]
  },
  {
   "cell_type": "markdown",
   "metadata": {},
   "source": [
    "Xem lại dữ liệu 1 lần nữa sau khi đã bỏ cột Tags"
   ]
  },
  {
   "cell_type": "code",
   "execution_count": 5,
   "metadata": {
    "scrolled": true
   },
   "outputs": [
    {
     "data": {
      "text/html": [
       "<div>\n",
       "<style scoped>\n",
       "    .dataframe tbody tr th:only-of-type {\n",
       "        vertical-align: middle;\n",
       "    }\n",
       "\n",
       "    .dataframe tbody tr th {\n",
       "        vertical-align: top;\n",
       "    }\n",
       "\n",
       "    .dataframe thead th {\n",
       "        text-align: right;\n",
       "    }\n",
       "</style>\n",
       "<table border=\"1\" class=\"dataframe\">\n",
       "  <thead>\n",
       "    <tr style=\"text-align: right;\">\n",
       "      <th></th>\n",
       "      <th>Date received</th>\n",
       "      <th>Product</th>\n",
       "      <th>Sub-product</th>\n",
       "      <th>Issue</th>\n",
       "      <th>Sub-issue</th>\n",
       "      <th>Consumer complaint narrative</th>\n",
       "      <th>Company public response</th>\n",
       "      <th>Company</th>\n",
       "      <th>State</th>\n",
       "      <th>ZIP code</th>\n",
       "      <th>Consumer consent provided?</th>\n",
       "      <th>Submitted via</th>\n",
       "      <th>Date sent to company</th>\n",
       "      <th>Company response to consumer</th>\n",
       "      <th>Timely response?</th>\n",
       "      <th>Consumer disputed?</th>\n",
       "      <th>Complaint ID</th>\n",
       "    </tr>\n",
       "  </thead>\n",
       "  <tbody>\n",
       "    <tr>\n",
       "      <th>0</th>\n",
       "      <td>2019-06-13</td>\n",
       "      <td>Credit reporting, credit repair services, or o...</td>\n",
       "      <td>Credit reporting</td>\n",
       "      <td>Incorrect information on your report</td>\n",
       "      <td>Information belongs to someone else</td>\n",
       "      <td>NaN</td>\n",
       "      <td>NaN</td>\n",
       "      <td>CAPITAL ONE FINANCIAL CORPORATION</td>\n",
       "      <td>PA</td>\n",
       "      <td>18640.0</td>\n",
       "      <td>Consent not provided</td>\n",
       "      <td>Web</td>\n",
       "      <td>2019-06-13</td>\n",
       "      <td>Closed with explanation</td>\n",
       "      <td>Yes</td>\n",
       "      <td>NaN</td>\n",
       "      <td>3274605</td>\n",
       "    </tr>\n",
       "    <tr>\n",
       "      <th>1</th>\n",
       "      <td>2019-11-01</td>\n",
       "      <td>Vehicle loan or lease</td>\n",
       "      <td>Loan</td>\n",
       "      <td>Struggling to pay your loan</td>\n",
       "      <td>Denied request to lower payments</td>\n",
       "      <td>I contacted Ally on Friday XX/XX/XXXX after fa...</td>\n",
       "      <td>Company has responded to the consumer and the ...</td>\n",
       "      <td>ALLY FINANCIAL INC.</td>\n",
       "      <td>NJ</td>\n",
       "      <td>8854.0</td>\n",
       "      <td>Consent provided</td>\n",
       "      <td>Web</td>\n",
       "      <td>2019-11-01</td>\n",
       "      <td>Closed with explanation</td>\n",
       "      <td>Yes</td>\n",
       "      <td>NaN</td>\n",
       "      <td>3425257</td>\n",
       "    </tr>\n",
       "    <tr>\n",
       "      <th>2</th>\n",
       "      <td>2019-04-01</td>\n",
       "      <td>Credit reporting, credit repair services, or o...</td>\n",
       "      <td>Credit reporting</td>\n",
       "      <td>Incorrect information on your report</td>\n",
       "      <td>Account status incorrect</td>\n",
       "      <td>NaN</td>\n",
       "      <td>Company has responded to the consumer and the ...</td>\n",
       "      <td>TRANSUNION INTERMEDIATE HOLDINGS, INC.</td>\n",
       "      <td>PA</td>\n",
       "      <td>19067.0</td>\n",
       "      <td>Consent not provided</td>\n",
       "      <td>Web</td>\n",
       "      <td>2019-04-01</td>\n",
       "      <td>Closed with explanation</td>\n",
       "      <td>Yes</td>\n",
       "      <td>NaN</td>\n",
       "      <td>3198225</td>\n",
       "    </tr>\n",
       "    <tr>\n",
       "      <th>3</th>\n",
       "      <td>2019-04-10</td>\n",
       "      <td>Credit card or prepaid card</td>\n",
       "      <td>Store credit card</td>\n",
       "      <td>Closing your account</td>\n",
       "      <td>Can't close your account</td>\n",
       "      <td>NaN</td>\n",
       "      <td>Company believes it acted appropriately as aut...</td>\n",
       "      <td>Atlanticus Services Corporation</td>\n",
       "      <td>WI</td>\n",
       "      <td>54409.0</td>\n",
       "      <td>NaN</td>\n",
       "      <td>Referral</td>\n",
       "      <td>2019-04-16</td>\n",
       "      <td>Closed with explanation</td>\n",
       "      <td>No</td>\n",
       "      <td>NaN</td>\n",
       "      <td>3207424</td>\n",
       "    </tr>\n",
       "    <tr>\n",
       "      <th>4</th>\n",
       "      <td>2020-04-21</td>\n",
       "      <td>Credit reporting, credit repair services, or o...</td>\n",
       "      <td>Credit reporting</td>\n",
       "      <td>Incorrect information on your report</td>\n",
       "      <td>Account information incorrect</td>\n",
       "      <td>Capital One Auto Finance incorrectly and witho...</td>\n",
       "      <td>NaN</td>\n",
       "      <td>CAPITAL ONE FINANCIAL CORPORATION</td>\n",
       "      <td>GA</td>\n",
       "      <td>30024.0</td>\n",
       "      <td>Consent provided</td>\n",
       "      <td>Web</td>\n",
       "      <td>2020-04-21</td>\n",
       "      <td>Closed with explanation</td>\n",
       "      <td>Yes</td>\n",
       "      <td>NaN</td>\n",
       "      <td>3616748</td>\n",
       "    </tr>\n",
       "  </tbody>\n",
       "</table>\n",
       "</div>"
      ],
      "text/plain": [
       "  Date received                                            Product  \\\n",
       "0    2019-06-13  Credit reporting, credit repair services, or o...   \n",
       "1    2019-11-01                              Vehicle loan or lease   \n",
       "2    2019-04-01  Credit reporting, credit repair services, or o...   \n",
       "3    2019-04-10                        Credit card or prepaid card   \n",
       "4    2020-04-21  Credit reporting, credit repair services, or o...   \n",
       "\n",
       "         Sub-product                                 Issue  \\\n",
       "0   Credit reporting  Incorrect information on your report   \n",
       "1               Loan           Struggling to pay your loan   \n",
       "2   Credit reporting  Incorrect information on your report   \n",
       "3  Store credit card                  Closing your account   \n",
       "4   Credit reporting  Incorrect information on your report   \n",
       "\n",
       "                             Sub-issue  \\\n",
       "0  Information belongs to someone else   \n",
       "1     Denied request to lower payments   \n",
       "2             Account status incorrect   \n",
       "3             Can't close your account   \n",
       "4        Account information incorrect   \n",
       "\n",
       "                        Consumer complaint narrative  \\\n",
       "0                                                NaN   \n",
       "1  I contacted Ally on Friday XX/XX/XXXX after fa...   \n",
       "2                                                NaN   \n",
       "3                                                NaN   \n",
       "4  Capital One Auto Finance incorrectly and witho...   \n",
       "\n",
       "                             Company public response  \\\n",
       "0                                                NaN   \n",
       "1  Company has responded to the consumer and the ...   \n",
       "2  Company has responded to the consumer and the ...   \n",
       "3  Company believes it acted appropriately as aut...   \n",
       "4                                                NaN   \n",
       "\n",
       "                                  Company State ZIP code  \\\n",
       "0       CAPITAL ONE FINANCIAL CORPORATION    PA  18640.0   \n",
       "1                     ALLY FINANCIAL INC.    NJ   8854.0   \n",
       "2  TRANSUNION INTERMEDIATE HOLDINGS, INC.    PA  19067.0   \n",
       "3         Atlanticus Services Corporation    WI  54409.0   \n",
       "4       CAPITAL ONE FINANCIAL CORPORATION    GA  30024.0   \n",
       "\n",
       "  Consumer consent provided? Submitted via Date sent to company  \\\n",
       "0       Consent not provided           Web           2019-06-13   \n",
       "1           Consent provided           Web           2019-11-01   \n",
       "2       Consent not provided           Web           2019-04-01   \n",
       "3                        NaN      Referral           2019-04-16   \n",
       "4           Consent provided           Web           2020-04-21   \n",
       "\n",
       "  Company response to consumer Timely response? Consumer disputed?  \\\n",
       "0      Closed with explanation              Yes                NaN   \n",
       "1      Closed with explanation              Yes                NaN   \n",
       "2      Closed with explanation              Yes                NaN   \n",
       "3      Closed with explanation               No                NaN   \n",
       "4      Closed with explanation              Yes                NaN   \n",
       "\n",
       "   Complaint ID  \n",
       "0       3274605  \n",
       "1       3425257  \n",
       "2       3198225  \n",
       "3       3207424  \n",
       "4       3616748  "
      ]
     },
     "execution_count": 5,
     "metadata": {},
     "output_type": "execute_result"
    }
   ],
   "source": [
    "df.head()"
   ]
  },
  {
   "cell_type": "markdown",
   "metadata": {},
   "source": [
    "### Mỗi cột dữ liệu có ý nghĩa là gì?"
   ]
  },
  {
   "cell_type": "markdown",
   "metadata": {},
   "source": [
    "Data có tổng cộng 17 cột, với các ý nghĩa cơ bản của từng cột như sau:\n",
    "* Date received: ngày nhận được khiếu nại\n",
    "* Product: loại sản phẩm, dịch vụ khiếu nại,....\n",
    "* Sub product: thêm thông tin, làm rõ hơn về sản phẩm, dịch vụ,... trong product\n",
    "* Issue: vấn đề người dùng gặp phải\n",
    "* Sub-issue: thông tin thêm, làm rõ về vấn đề gặp phải trong issue\n",
    "* Consumer complaint narrative: miêu tả, phàn nàn, khiếu nại của người dùng đối với vấn đề họ gặp phải\n",
    "* Company public response: phản hồi chính thức, công khai của phía công ty\n",
    "* Company: tên công ty\n",
    "* State: tên bang nơi người gửi\n",
    "* ZIP code : mã zip ( giống mã bưu điện ) người gửi\n",
    "* Consumer consent provided: người dùng có publish cái complaint narrative cho mọi người khác biết hay không\n",
    "* Submitted via: khiếu nại được gửi thông qua dạng nào(web,fax,email,...)\n",
    "* Date sent to company: ngày khiếu nại được gửi đến công ty\n",
    "* Company response to consumer: tình trạng phản hồi, giải quyết của công ty đối với người khiếu nại\n",
    "* Timely response: trả lời đúng thời hạn hay không\n",
    "* Consumer disputed?: người dùng có muốn mở cuộc tranh chấp, cần bồi thường hay không\n",
    "* Complaint ID: id của đơn khiếu nại"
   ]
  },
  {
   "cell_type": "markdown",
   "metadata": {},
   "source": [
    "### Dữ liệu có bao nhiêu dòng và bao nhiêu cột"
   ]
  },
  {
   "cell_type": "code",
   "execution_count": null,
   "metadata": {
    "deletable": false,
    "nbgrader": {
     "cell_type": "code",
     "checksum": "607dbbe4997f90db7ca9d3e0c596d38a",
     "grade": false,
     "grade_id": "cell-8338f3610f6c5002",
     "locked": false,
     "schema_version": 3,
     "solution": true,
     "task": false
    }
   },
   "outputs": [],
   "source": [
    "size = df.shape\n",
    "size"
   ]
  },
  {
   "cell_type": "markdown",
   "metadata": {},
   "source": [
    "### Xem các dòng có bị lặp không thông qua giá trị của cột 'Complaint ID'"
   ]
  },
  {
   "cell_type": "code",
   "execution_count": null,
   "metadata": {},
   "outputs": [],
   "source": [
    "num_duplicated_rows = df.duplicated(subset=['Complaint ID']).sum()\n",
    "num_duplicated_rows"
   ]
  },
  {
   "cell_type": "markdown",
   "metadata": {},
   "source": [
    "#### Tiếp theo kiểm tra thử cột Consumer disputed? , ta thấy có các giá trị như sau"
   ]
  },
  {
   "cell_type": "code",
   "execution_count": null,
   "metadata": {},
   "outputs": [],
   "source": [
    "df['Consumer disputed?'].unique()"
   ]
  },
  {
   "cell_type": "markdown",
   "metadata": {},
   "source": [
    "##### Trong trường hợp này ta có thể hiểu được rằng NaN sẽ có ý nghĩa tương đương với No, vì người dùng khi họ điền thông tin khiếu nại vấn đề thì có các vân đề thì có thể phần này là phần optional, cho người dùng điền vào là có cần yêu cầu công ty bồi thường thiệt hại, tranh chấp tài sản gì không thì có người họ ghi rõ ràng là Yes, No nhưng có người họ thấy không có nhu cầu đó, nên tâm lý chung họ không cần nhu cầu đền bù thì họ không điền luôn, dẫn đến bị trống thông tin."
   ]
  },
  {
   "cell_type": "code",
   "execution_count": null,
   "metadata": {},
   "outputs": [],
   "source": [
    "df['Consumer disputed?'] = df['Consumer disputed?'].fillna('No')\n",
    "df['Consumer disputed?'].unique()"
   ]
  },
  {
   "cell_type": "markdown",
   "metadata": {},
   "source": [
    "### Mỗi cột có kiểu dữ liệu gì?"
   ]
  },
  {
   "cell_type": "code",
   "execution_count": null,
   "metadata": {},
   "outputs": [],
   "source": [
    "df.dtypes"
   ]
  },
  {
   "cell_type": "markdown",
   "metadata": {},
   "source": [
    "Xem kiểu dữ liệu thật sự bên trong mỗi cột."
   ]
  },
  {
   "cell_type": "code",
   "execution_count": null,
   "metadata": {},
   "outputs": [],
   "source": [
    "def open_object_dtype(s):\n",
    "    dtypes = set()\n",
    "    a = s.apply(lambda x: type(x))\n",
    "    dtypes = set((a.unique()))\n",
    "    return dtypes   \n",
    "col = df.columns\n",
    "for i in range(len(col)):\n",
    "    temp = open_object_dtype(df[col[i]])\n",
    "    print(str(col[i])+' ' +str(temp))"
   ]
  },
  {
   "cell_type": "markdown",
   "metadata": {},
   "source": [
    "### Chuyển 2 cột 'Date received' và 'Date sent to company' sang dạng Datetime"
   ]
  },
  {
   "cell_type": "code",
   "execution_count": null,
   "metadata": {},
   "outputs": [],
   "source": [
    "df['Date received'] = pd.to_datetime(df['Date received'],format='%Y-%m-%d')\n",
    "df['Date sent to company'] = pd.to_datetime(df['Date sent to company'],format='%Y-%m-%d')"
   ]
  },
  {
   "cell_type": "code",
   "execution_count": null,
   "metadata": {},
   "outputs": [],
   "source": [
    "df.dtypes"
   ]
  },
  {
   "cell_type": "markdown",
   "metadata": {},
   "source": [
    "#### Xét giá trị trong cột 'Date received' có lớn hơn giá trị trong cột 'Date sent to company'. Bởi vì nếu ngày received mà xảy ra sau ngày sent to company là vô lý. Ta sẽ xóa các dòng vô lý đó."
   ]
  },
  {
   "cell_type": "code",
   "execution_count": null,
   "metadata": {},
   "outputs": [],
   "source": [
    "df = df.loc[df['Date received'] <= df['Date sent to company']]\n",
    "df.shape"
   ]
  },
  {
   "cell_type": "markdown",
   "metadata": {},
   "source": [
    "---"
   ]
  },
  {
   "cell_type": "markdown",
   "metadata": {},
   "source": [
    "## Đặt câu hỏi "
   ]
  },
  {
   "cell_type": "markdown",
   "metadata": {},
   "source": [
    "Khi tìm hiều về dữ liệu và xem xét, thì chúng em đưa ra 2 vấn đề như sau:\n",
    "1. Theo từng giai đoạn, tỉ lệ phần trăn của từng vấn đề trong mỗi giai đoạn là như thế nào? Câu hỏi này sẽ cho ta biết được trong các giai đoạn khác nhau thì các vấn đề liên quan đến tài chính của người dân Mỹ tồn đọng nhiều nhất là gì, và có lý do nào đứng sau các vấn đề đó hay không. Và có thể trả lời được câu hỏi này ta cũng có thể khái quát phần nào các vấn đề của cả nước Mỹ đang gặp phải trong phát triển kinh tế(tất nhiên là có thể phần nào thôi, không thể nào trả lời được toàn bộ 100%, do để làm được điều đó thì cần rất nhiều yếu tố khác nữa, chính trị chẳng hạn chứ không chỉ riêng các vấn đề liên quan đến nền kinh tế đơn lẻ).\n",
    "\n",
    "\n",
    "2. Sắp xếp các công ty có khả năng xử lý, giải quyết các vấn đề của người dùng một cách thỏa đáng nhất. Việc đánh giá chất lượng công ty không chỉ đơn thuần qua những sản phẩm, dịch vụ họ cung cấp mà khả năng giải quyết vấn đề, khả năng chăm sóc người dùng với các vấn đề mà họ gặp phải nữa."
   ]
  },
  {
   "cell_type": "markdown",
   "metadata": {},
   "source": [
    "---"
   ]
  },
  {
   "cell_type": "markdown",
   "metadata": {},
   "source": [
    "Câu 1:"
   ]
  },
  {
   "cell_type": "code",
   "execution_count": null,
   "metadata": {},
   "outputs": [],
   "source": [
    "df['Date received'].dt.year.value_counts(dropna=False)"
   ]
  },
  {
   "cell_type": "code",
   "execution_count": null,
   "metadata": {},
   "outputs": [],
   "source": [
    "lap_1 = [2011,2012,2013,2014] # giai đọan 2011-2014\n",
    "lap_2 = [2015,2016,2017,2018] # giai đoạn 2015-2018\n",
    "lap_3 = [2019,2020,2021] # giai đoạn 2019-2021\n",
    "\n",
    "df_lap_1 = df[df['Date received'].dt.year.isin(lap_1)]['Product'].value_counts(normalize=True,dropna=False) * 100\n",
    "df_lap_2 = df[df['Date received'].dt.year.isin(lap_2)]['Product'].value_counts(normalize=True,dropna=False) * 100\n",
    "df_lap_3 = df[df['Date received'].dt.year.isin(lap_3)]['Product'].value_counts(normalize=True,dropna=False) * 100"
   ]
  },
  {
   "cell_type": "code",
   "execution_count": null,
   "metadata": {},
   "outputs": [],
   "source": [
    "plt.barh(df_lap_1.index, df_lap_1.values)\n",
    "plt.xlabel('Tỉ lệ %')\n",
    "plt.ylabel('Từng vấn đề')\n",
    "plt.show()"
   ]
  },
  {
   "cell_type": "markdown",
   "metadata": {},
   "source": [
    "Với giai đoạn này thì ta có thể thấy vấn đề liên quan đến Mortage(nhu cầu vay mượn, thế chấp) cao hơn hẳn các vấn đề còn lại, hơn khoảng 2,5 lần so với vấn đề thứ 2 là debt collection( thu tiền nợ). Có thế thấy  giai đoạn này người dùng rất hay có nhu cầu này có thể để đầu tư kinh doanh, hoặc có thể cũng là do cần tiền để trả nợ(các vấn đề trong việc thu tiền nợ là đứng 2 như đã thấy). Xem lại thực tế một chút thì trước đó ở Mỹ có xảy ra cuộc khủng hoảng kinh tế lớn giai đoạn 2007-2009. Và có thể vào những năm trong giai đoạn 2011 này thì mọi người phải cố gắng khắc phục hậu quả do cuộc khủng hoảng gây ra(do việc kinh doanh không thuận lợi, thất nghiệp vân vân....) nên họ phải tính đến chuyện thế chấp, cầm cố tài sản để rồi từ đó phát sinh ra nhiều vấn đề xung quanh việc này, hay cũng có thể do chính phủ quản lý việc này chưa tốt do tàn dư của khủng hoảng trước đó nữa."
   ]
  },
  {
   "cell_type": "code",
   "execution_count": null,
   "metadata": {},
   "outputs": [],
   "source": [
    "plt.barh(df_lap_2.index, df_lap_2.values)\n",
    "plt.xlabel('Tỉ lệ %')\n",
    "plt.ylabel('Từng vấn đề')\n",
    "plt.show()"
   ]
  },
  {
   "cell_type": "markdown",
   "metadata": {},
   "source": [
    "Sang đến giai đoạn này thì các số liệu về các vấn đề có vẻ đã tương đồng nhau hơn, nhu cầu vay mượn không còn nhiều nữa mà thay vào đó các vấn liên quan đến thẻ tín dụng, các nhu cầu cá nhân tăng cao => Có vẻ như nền kinh tế lúc nãy đã ổn định trở lại, và nhịp sống của con người đã ổn định hơn, người ta bắt đầu sử dụng tiền bạc, tài sản thoải mái hơn 1 chút từ đó không còn quá nhiều vấn đề liên quan vay mượn nữa mà các vấn đề liên quan đến sử dụng tiền bạc phát sinh ra nhiều hơn giai đoạn trước"
   ]
  },
  {
   "cell_type": "code",
   "execution_count": null,
   "metadata": {},
   "outputs": [],
   "source": [
    "plt.barh(df_lap_3.index, df_lap_3.values)\n",
    "plt.xlabel('Tỉ lệ %')\n",
    "plt.ylabel('Từng vấn đề')\n",
    "plt.show()"
   ]
  },
  {
   "cell_type": "markdown",
   "metadata": {},
   "source": [
    "Sang đến giai đoạn gần đây nhất thì các vấn đề liên quan đến tài chính cá nhân, tiền bạc, thẻ ngân hàng, tín dụng,... vẫn chiếm số lượng nhiều nhất và chiếm tỉ lệ vượt trội so với các vấn đề khác(gần 60%), có thể thấy giai đoạn này kinh tế đã ổn định và phát triển trở lại, và có lẽ vậy nên người ta tậpp trung nhiều hẳn vào các vấn đề chi tiêu các nhân và gây ra khá nhiều vấn đề xung quanh việc này. Có lẻ một phần do các công ty tài chính chưa thực sự kiểm soát tốt các chất lượng trong dịch vụ của mình cung cấp, hay do số lượng nhu cầu quá nhiều dẫn đến sai sót trong cách quản lý đối với các vấn đề mắc phải"
   ]
  },
  {
   "cell_type": "markdown",
   "metadata": {},
   "source": [
    "## Tiền xử lý"
   ]
  },
  {
   "cell_type": "markdown",
   "metadata": {},
   "source": [
    "Nếu bạn thấy cần thực hiện thêm thao tác tiền xử lý để chuẩn bị dữ liệu cho bước phân tích thì bạn làm ở đây. Bước này là không bắt buộc. "
   ]
  },
  {
   "cell_type": "code",
   "execution_count": null,
   "metadata": {},
   "outputs": [],
   "source": [
    "# YOUR CODE HERE (OPTION) "
   ]
  },
  {
   "cell_type": "markdown",
   "metadata": {},
   "source": [
    "---"
   ]
  },
  {
   "cell_type": "markdown",
   "metadata": {},
   "source": [
    "## Phân tích dữ liệu (2.25đ)"
   ]
  },
  {
   "cell_type": "markdown",
   "metadata": {},
   "source": [
    "Bây giờ, bạn sẽ thực hiện phân tích dữ liệu để trả lời cho câu hỏi ở trên. Cụ thể các bước như sau:\n",
    "- Bước 1: tính Series `most_loved_platforms`, trong đó: \n",
    "    - Index là tên flatform (ở bước khám phá dữ liệu, bạn đã thấy có tất cả 16 platform)\n",
    "    - Data là tỉ lệ % (từ 0 đến 100, được làm tròn với một chữ số thập phân bằng phương thức `round(1)`) được yêu thích (được sort giảm dần) \n",
    "- Bước 2: từ Series `most_loved_platforms`, bạn vẽ bar chart:\n",
    "    - Bạn cho các bar nằm ngang (cho dễ nhìn)\n",
    "    - Bạn đặt tên trục hoành là \"Tỉ lệ %\""
   ]
  },
  {
   "cell_type": "markdown",
   "metadata": {},
   "source": [
    "Code bước 1."
   ]
  },
  {
   "cell_type": "code",
   "execution_count": null,
   "metadata": {
    "deletable": false,
    "nbgrader": {
     "cell_type": "code",
     "checksum": "0a9055745bab2ee00733aac0a056b17f",
     "grade": false,
     "grade_id": "cell-6d34c88e2fd46b33",
     "locked": false,
     "schema_version": 3,
     "solution": true,
     "task": false
    }
   },
   "outputs": [],
   "source": [
    "# YOUR CODE HERE\n",
    "platform = list(survey_df['PlatformDesireNextYear'].str.get_dummies(sep = ';').sum().index)\n",
    "full_loved_platform = []\n",
    "total_loved = 0\n",
    "percent_platform = []\n",
    "for i in range(0,16): #chứa thông tin các platform\n",
    "    full_loved_platform.append([])\n",
    "for i in range(0,16): # xử lý từng tên platform một\n",
    "    full_loved_platform[i] = survey_df[survey_df['PlatformWorkedWith'].str.contains(platform[i]) & survey_df['PlatformDesireNextYear'].str.contains(platform[i])]\n",
    "    total_loved += len(full_loved_platform[i])\n",
    "for i in range(0,16): # tính phần trăm\n",
    "    percent = round((len(full_loved_platform[i])/total_loved)*100, 1)\n",
    "    percent_platform.append(percent)\n",
    "most_loved_platforms = pd.Series(percent_platform, platform)\n",
    "most_loved_platforms.sort_values(ascending=False, inplace=True)\n",
    "#raise NotImplementedError()\n",
    "most_loved_platforms"
   ]
  },
  {
   "cell_type": "code",
   "execution_count": null,
   "metadata": {
    "deletable": false,
    "editable": false,
    "nbgrader": {
     "cell_type": "code",
     "checksum": "0e1af6ae8a0d65cf90e9d8d9276bf6bb",
     "grade": true,
     "grade_id": "cell-1d22896d0f3f2394",
     "locked": true,
     "points": 2,
     "schema_version": 3,
     "solution": false,
     "task": false
    }
   },
   "outputs": [],
   "source": [
    "# TEST\n",
    "assert len(most_loved_platforms) == 16\n",
    "assert most_loved_platforms.loc['Linux'] == 20.2\n",
    "assert most_loved_platforms.loc['Windows'] == 14.6\n",
    "assert most_loved_platforms.loc['Docker'] == 12.3"
   ]
  },
  {
   "cell_type": "markdown",
   "metadata": {},
   "source": [
    "Code bước 2."
   ]
  },
  {
   "cell_type": "code",
   "execution_count": null,
   "metadata": {
    "deletable": false,
    "nbgrader": {
     "cell_type": "code",
     "checksum": "e9113040c23a1b8cbfde861c4efe685f",
     "grade": true,
     "grade_id": "cell-5395c611d6065339",
     "locked": false,
     "points": 0.25,
     "schema_version": 3,
     "solution": true,
     "task": false
    }
   },
   "outputs": [],
   "source": [
    "# YOUR CODE HERE\n",
    "plt.figure(figsize=(10, 10))\n",
    "plt.barh(most_loved_platforms.index, most_loved_platforms)\n",
    "plt.xlabel('Tỉ lệ %')\n",
    "#raise NotImplementedError()"
   ]
  },
  {
   "cell_type": "markdown",
   "metadata": {},
   "source": [
    "Bạn đã hiểu tại sao mình khuyên bạn là nên tập làm quen dần với các câu lệnh của Linux chưa 😉 "
   ]
  },
  {
   "cell_type": "markdown",
   "metadata": {},
   "source": [
    "---"
   ]
  },
  {
   "cell_type": "markdown",
   "metadata": {},
   "source": [
    "## Đặt câu hỏi của bạn (1.5đ)"
   ]
  },
  {
   "cell_type": "markdown",
   "metadata": {},
   "source": [
    "Bây giờ, đến lượt bạn phải tự suy nghĩ và đưa ra câu hỏi mà có thể trả lời bằng dữ liệu. Ngoài việc đưa ra câu hỏi, bạn cũng phải giải thích để người đọc thấy nếu trả lời được câu hỏi thì sẽ có lợi ích gì. Bạn nên sáng tạo một xíu, không nên đưa ra câu hỏi cùng dạng với câu hỏi của mình ở trên.  "
   ]
  },
  {
   "cell_type": "markdown",
   "metadata": {
    "deletable": false,
    "nbgrader": {
     "cell_type": "markdown",
     "checksum": "8e88fb70d5a2aac41af1566276a95321",
     "grade": true,
     "grade_id": "cell-2e7a92ae99ca7449",
     "locked": false,
     "points": 1.5,
     "schema_version": 3,
     "solution": true,
     "task": false
    }
   },
   "source": [
    "Một vấn đề em nghĩ ra đó là: Tìm hiểu về mức lương của những người tham gia khảo sát và số năm làm việc chuyên nghiệp của họ. Liệu có phải trong lĩnh vực IT thì càng làm lâu, càng có nhiều kinh nghiệm làm việc, tiếp xúc với công nghệ lâu thì sẽ dễ có được mức thu nhập cao hơn so với những tân binh, những người trẻ mới vào nghề hay không?Hay việc thu nhập cao hay thấp còn có yếu tố nào ảnh hưởng tới nữa?"
   ]
  },
  {
   "cell_type": "markdown",
   "metadata": {},
   "source": [
    "---"
   ]
  },
  {
   "cell_type": "markdown",
   "metadata": {},
   "source": [
    "## Tiền xử lý để chuẩn bị dữ liệu cho bước phân tích để trả lời cho câu hỏi của bạn"
   ]
  },
  {
   "cell_type": "markdown",
   "metadata": {},
   "source": [
    "Phần này là không bắt buộc. "
   ]
  },
  {
   "cell_type": "code",
   "execution_count": null,
   "metadata": {},
   "outputs": [],
   "source": [
    "# YOUR CODE HERE (OPTION) \n",
    "#bỏ đi những dòng mà YearsCodePro hoặc ConvertedComp trống\n",
    "temp_df = survey_df[survey_df['YearsCodePro'].isnull() | survey_df['ConvertedComp'].isnull()]\n",
    "survey_df.drop(temp_df.index,axis=0,inplace=True)"
   ]
  },
  {
   "cell_type": "markdown",
   "metadata": {},
   "source": [
    "---"
   ]
  },
  {
   "cell_type": "markdown",
   "metadata": {},
   "source": [
    "## Phân tích dữ liệu để ra câu trả lời cho câu hỏi của bạn (2đ)"
   ]
  },
  {
   "cell_type": "code",
   "execution_count": null,
   "metadata": {
    "deletable": false,
    "nbgrader": {
     "cell_type": "code",
     "checksum": "57f44ba4e568b05148da80fc7161fc97",
     "grade": true,
     "grade_id": "cell-83e11892184cf811",
     "locked": false,
     "points": 2,
     "schema_version": 3,
     "solution": true,
     "task": false
    }
   },
   "outputs": [],
   "source": [
    "# YOUR CODE HERE\n",
    "df_to_draw = survey_df[['ConvertedComp','YearsCodePro']]\n",
    "m, b = np.polyfit(df_to_draw['YearsCodePro'], df_to_draw['ConvertedComp'],1)\n",
    "plt.figure(figsize=(30,30))\n",
    "plt.scatter(df_to_draw['YearsCodePro'],df_to_draw['ConvertedComp'], s = 15, c ='black')\n",
    "plt.xlabel('Số năm kinh nghiệm')\n",
    "plt.ylabel('Mức lương')\n",
    "plt.plot(df_to_draw['YearsCodePro'], m*df_to_draw['YearsCodePro'] + b)\n",
    "#raise NotImplementedError()\n",
    "#nhận xét về câu hỏi đặt ra: dựa vào biểu đồ scatter ở dưới thì có thể thấy được rằng không phải luôn luôn nhất thiết tuổi nghề \n",
    "#phải nhiều, phải có nhiều kinh nghiệm thì thu nhập mới cao, vẫn có khá nhiều trường hợp tuổi nghề còn trẻ nhưng mức thu nhập\n",
    "#vẫn khá cao so với con số trung bình. Tuy nhiên nhìn vào đường kẻ hồi quy thì ta cũng thấy được rằng đúng là nếu càng làm lâu\n",
    "#trong nghề thì mức thu nhập nói chung vẫn sẽ tăng nên nếu kết luận là tuổi nghề cao thì mức lương cao cũng mang tính tổng quát\n",
    "#nhất định dựa trên số liệu(do có một số outlier nên biểu đồ trông hơi khó để nhìn ra)"
   ]
  }
 ],
 "metadata": {
  "kernelspec": {
   "display_name": "Python 3 (ipykernel)",
   "language": "python",
   "name": "python3"
  },
  "language_info": {
   "codemirror_mode": {
    "name": "ipython",
    "version": 3
   },
   "file_extension": ".py",
   "mimetype": "text/x-python",
   "name": "python",
   "nbconvert_exporter": "python",
   "pygments_lexer": "ipython3",
   "version": "3.8.8"
  },
  "toc": {
   "base_numbering": 1,
   "nav_menu": {},
   "number_sections": false,
   "sideBar": true,
   "skip_h1_title": true,
   "title_cell": "Table of Contents",
   "title_sidebar": "Contents",
   "toc_cell": false,
   "toc_position": {
    "height": "calc(100% - 180px)",
    "left": "10px",
    "top": "150px",
    "width": "175px"
   },
   "toc_section_display": true,
   "toc_window_display": true
  }
 },
 "nbformat": 4,
 "nbformat_minor": 4
}
