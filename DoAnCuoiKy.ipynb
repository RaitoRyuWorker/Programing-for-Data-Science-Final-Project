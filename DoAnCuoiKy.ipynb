{
 "cells": [
  {
   "cell_type": "markdown",
   "metadata": {},
   "source": [
    "# Đồ án cuối kỳ - Môn Lập trình khoa học dữ liệu\n",
    "# Giáo viên giảng dạy: Thầy Trần Trung Kiên\n",
    "## Sinh viên thực hiện:\n",
    "\n",
    "                        Tạ Võ Anh Khuê - 19120551\n",
    "\n",
    "                        Nguyễn Minh Long - 19120568"
   ]
  },
  {
   "cell_type": "markdown",
   "metadata": {},
   "source": [
    "---"
   ]
  },
  {
   "cell_type": "markdown",
   "metadata": {},
   "source": [
    "## Import thư viện"
   ]
  },
  {
   "cell_type": "code",
   "execution_count": 120,
   "metadata": {},
   "outputs": [],
   "source": [
    "import matplotlib.pyplot as plt\n",
    "import numpy as np\n",
    "import pandas as pd "
   ]
  },
  {
   "cell_type": "markdown",
   "metadata": {},
   "source": [
    "---"
   ]
  },
  {
   "cell_type": "markdown",
   "metadata": {},
   "source": [
    "## Thu thập dữ liệu"
   ]
  },
  {
   "cell_type": "markdown",
   "metadata": {},
   "source": [
    "Dữ liệu được sử dụng trong bài tập này là dữ liệu về các phàn nàn, khiếu nại của người dùng được gửi tới CFBP(Consumer Financial Protection Bureau) - tạm gọi là Cục Bảo Vệ Tài Chính Cho Người Tiêu Dùng. Dữ liệu được lấy [ở đây](https://www.kaggle.com/meetnagadia/consumer-complaint-finance). \n",
    "\n",
    "Cục Bảo Vệ Tài Chính Cho Người Tiêu Dùng (CFPB) là một cơ quan của chính phủ liên bang Mỹ được thành lập để bảo đảm sự hiệu quả của những sản phẩm và dịch vụ tài chính cho mọi người như mua nhà, chọn lựa một thẻ tín dụng, gửi tiền cho người thân ở nước ngoài, hoặc khi sử dụng bất cứ loại sản phẩm tài chánh khác ở Mỹ.\n",
    "Cục có chức năng giám sát hoạt động của các ngân hàng, liên hiệp tín dụng (credit union), những công ty tài chính khác và thi hành những quy luật tài chính để bảo vệ người dùng tránh khỏi các hành vi bất công, dối trá và lạm dụng.\n",
    "\n",
    "Đôi nét về dữ liệu này: Dữ liệu thể hiện các complaint(khiếu nại, phàn nàn) của người dùng về các vấn đề tài chính mà họ gặp phải. Người dùng trình báo lên Cục Bảo Vệ(CFBP) và cục có trách nhiệm liên lạc và trao đổi, chuyển tiếp thông tin giúp người dùng tới các công ty liên quan. Dữ liệu được công khai ghi nhận(published) bởi CFPB sau khi mà các công ty phản hồi, xác nhận có liên quan đến các vấn đề của người dùng hoặc sau 15 ngày, tùy điều kiện nào đến trước."
   ]
  },
  {
   "cell_type": "markdown",
   "metadata": {},
   "source": [
    "---"
   ]
  },
  {
   "cell_type": "markdown",
   "metadata": {},
   "source": [
    "## Khám phá dữ liệu"
   ]
  },
  {
   "cell_type": "markdown",
   "metadata": {},
   "source": [
    "## Đọc dữ liệu từ file"
   ]
  },
  {
   "cell_type": "markdown",
   "metadata": {},
   "source": [
    "Dữ liệu được đặt cùng cấp folder của file noteboook, đọc vào bằng hàm read_csv."
   ]
  },
  {
   "cell_type": "code",
   "execution_count": 87,
   "metadata": {
    "deletable": false,
    "nbgrader": {
     "cell_type": "code",
     "checksum": "0bf411943f48101b385795cb06db43f4",
     "grade": true,
     "grade_id": "cell-d46e97079096473c",
     "locked": false,
     "points": 0.25,
     "schema_version": 3,
     "solution": true,
     "task": false
    }
   },
   "outputs": [
    {
     "name": "stderr",
     "output_type": "stream",
     "text": [
      "C:\\Users\\Admin\\anaconda3\\envs\\min_ds-env\\lib\\site-packages\\IPython\\core\\interactiveshell.py:3172: DtypeWarning: Columns (9) have mixed types.Specify dtype option on import or set low_memory=False.\n",
      "  has_raised = await self.run_ast_nodes(code_ast.body, cell_name,\n"
     ]
    },
    {
     "data": {
      "text/html": [
       "<div>\n",
       "<style scoped>\n",
       "    .dataframe tbody tr th:only-of-type {\n",
       "        vertical-align: middle;\n",
       "    }\n",
       "\n",
       "    .dataframe tbody tr th {\n",
       "        vertical-align: top;\n",
       "    }\n",
       "\n",
       "    .dataframe thead th {\n",
       "        text-align: right;\n",
       "    }\n",
       "</style>\n",
       "<table border=\"1\" class=\"dataframe\">\n",
       "  <thead>\n",
       "    <tr style=\"text-align: right;\">\n",
       "      <th></th>\n",
       "      <th>Date received</th>\n",
       "      <th>Product</th>\n",
       "      <th>Sub-product</th>\n",
       "      <th>Issue</th>\n",
       "      <th>Sub-issue</th>\n",
       "      <th>Consumer complaint narrative</th>\n",
       "      <th>Company public response</th>\n",
       "      <th>Company</th>\n",
       "      <th>State</th>\n",
       "      <th>ZIP code</th>\n",
       "      <th>Tags</th>\n",
       "      <th>Consumer consent provided?</th>\n",
       "      <th>Submitted via</th>\n",
       "      <th>Date sent to company</th>\n",
       "      <th>Company response to consumer</th>\n",
       "      <th>Timely response?</th>\n",
       "      <th>Consumer disputed?</th>\n",
       "      <th>Complaint ID</th>\n",
       "    </tr>\n",
       "  </thead>\n",
       "  <tbody>\n",
       "    <tr>\n",
       "      <th>0</th>\n",
       "      <td>2019-06-13</td>\n",
       "      <td>Credit reporting, credit repair services, or o...</td>\n",
       "      <td>Credit reporting</td>\n",
       "      <td>Incorrect information on your report</td>\n",
       "      <td>Information belongs to someone else</td>\n",
       "      <td>NaN</td>\n",
       "      <td>NaN</td>\n",
       "      <td>CAPITAL ONE FINANCIAL CORPORATION</td>\n",
       "      <td>PA</td>\n",
       "      <td>18640.0</td>\n",
       "      <td>NaN</td>\n",
       "      <td>Consent not provided</td>\n",
       "      <td>Web</td>\n",
       "      <td>2019-06-13</td>\n",
       "      <td>Closed with explanation</td>\n",
       "      <td>Yes</td>\n",
       "      <td>NaN</td>\n",
       "      <td>3274605</td>\n",
       "    </tr>\n",
       "    <tr>\n",
       "      <th>1</th>\n",
       "      <td>2019-11-01</td>\n",
       "      <td>Vehicle loan or lease</td>\n",
       "      <td>Loan</td>\n",
       "      <td>Struggling to pay your loan</td>\n",
       "      <td>Denied request to lower payments</td>\n",
       "      <td>I contacted Ally on Friday XX/XX/XXXX after fa...</td>\n",
       "      <td>Company has responded to the consumer and the ...</td>\n",
       "      <td>ALLY FINANCIAL INC.</td>\n",
       "      <td>NJ</td>\n",
       "      <td>8854.0</td>\n",
       "      <td>NaN</td>\n",
       "      <td>Consent provided</td>\n",
       "      <td>Web</td>\n",
       "      <td>2019-11-01</td>\n",
       "      <td>Closed with explanation</td>\n",
       "      <td>Yes</td>\n",
       "      <td>NaN</td>\n",
       "      <td>3425257</td>\n",
       "    </tr>\n",
       "    <tr>\n",
       "      <th>2</th>\n",
       "      <td>2019-04-01</td>\n",
       "      <td>Credit reporting, credit repair services, or o...</td>\n",
       "      <td>Credit reporting</td>\n",
       "      <td>Incorrect information on your report</td>\n",
       "      <td>Account status incorrect</td>\n",
       "      <td>NaN</td>\n",
       "      <td>Company has responded to the consumer and the ...</td>\n",
       "      <td>TRANSUNION INTERMEDIATE HOLDINGS, INC.</td>\n",
       "      <td>PA</td>\n",
       "      <td>19067.0</td>\n",
       "      <td>NaN</td>\n",
       "      <td>Consent not provided</td>\n",
       "      <td>Web</td>\n",
       "      <td>2019-04-01</td>\n",
       "      <td>Closed with explanation</td>\n",
       "      <td>Yes</td>\n",
       "      <td>NaN</td>\n",
       "      <td>3198225</td>\n",
       "    </tr>\n",
       "    <tr>\n",
       "      <th>3</th>\n",
       "      <td>2019-04-10</td>\n",
       "      <td>Credit card or prepaid card</td>\n",
       "      <td>Store credit card</td>\n",
       "      <td>Closing your account</td>\n",
       "      <td>Can't close your account</td>\n",
       "      <td>NaN</td>\n",
       "      <td>Company believes it acted appropriately as aut...</td>\n",
       "      <td>Atlanticus Services Corporation</td>\n",
       "      <td>WI</td>\n",
       "      <td>54409.0</td>\n",
       "      <td>Older American</td>\n",
       "      <td>NaN</td>\n",
       "      <td>Referral</td>\n",
       "      <td>2019-04-16</td>\n",
       "      <td>Closed with explanation</td>\n",
       "      <td>No</td>\n",
       "      <td>NaN</td>\n",
       "      <td>3207424</td>\n",
       "    </tr>\n",
       "    <tr>\n",
       "      <th>4</th>\n",
       "      <td>2020-04-21</td>\n",
       "      <td>Credit reporting, credit repair services, or o...</td>\n",
       "      <td>Credit reporting</td>\n",
       "      <td>Incorrect information on your report</td>\n",
       "      <td>Account information incorrect</td>\n",
       "      <td>Capital One Auto Finance incorrectly and witho...</td>\n",
       "      <td>NaN</td>\n",
       "      <td>CAPITAL ONE FINANCIAL CORPORATION</td>\n",
       "      <td>GA</td>\n",
       "      <td>30024.0</td>\n",
       "      <td>NaN</td>\n",
       "      <td>Consent provided</td>\n",
       "      <td>Web</td>\n",
       "      <td>2020-04-21</td>\n",
       "      <td>Closed with explanation</td>\n",
       "      <td>Yes</td>\n",
       "      <td>NaN</td>\n",
       "      <td>3616748</td>\n",
       "    </tr>\n",
       "  </tbody>\n",
       "</table>\n",
       "</div>"
      ],
      "text/plain": [
       "  Date received                                            Product  \\\n",
       "0    2019-06-13  Credit reporting, credit repair services, or o...   \n",
       "1    2019-11-01                              Vehicle loan or lease   \n",
       "2    2019-04-01  Credit reporting, credit repair services, or o...   \n",
       "3    2019-04-10                        Credit card or prepaid card   \n",
       "4    2020-04-21  Credit reporting, credit repair services, or o...   \n",
       "\n",
       "         Sub-product                                 Issue  \\\n",
       "0   Credit reporting  Incorrect information on your report   \n",
       "1               Loan           Struggling to pay your loan   \n",
       "2   Credit reporting  Incorrect information on your report   \n",
       "3  Store credit card                  Closing your account   \n",
       "4   Credit reporting  Incorrect information on your report   \n",
       "\n",
       "                             Sub-issue  \\\n",
       "0  Information belongs to someone else   \n",
       "1     Denied request to lower payments   \n",
       "2             Account status incorrect   \n",
       "3             Can't close your account   \n",
       "4        Account information incorrect   \n",
       "\n",
       "                        Consumer complaint narrative  \\\n",
       "0                                                NaN   \n",
       "1  I contacted Ally on Friday XX/XX/XXXX after fa...   \n",
       "2                                                NaN   \n",
       "3                                                NaN   \n",
       "4  Capital One Auto Finance incorrectly and witho...   \n",
       "\n",
       "                             Company public response  \\\n",
       "0                                                NaN   \n",
       "1  Company has responded to the consumer and the ...   \n",
       "2  Company has responded to the consumer and the ...   \n",
       "3  Company believes it acted appropriately as aut...   \n",
       "4                                                NaN   \n",
       "\n",
       "                                  Company State ZIP code            Tags  \\\n",
       "0       CAPITAL ONE FINANCIAL CORPORATION    PA  18640.0             NaN   \n",
       "1                     ALLY FINANCIAL INC.    NJ   8854.0             NaN   \n",
       "2  TRANSUNION INTERMEDIATE HOLDINGS, INC.    PA  19067.0             NaN   \n",
       "3         Atlanticus Services Corporation    WI  54409.0  Older American   \n",
       "4       CAPITAL ONE FINANCIAL CORPORATION    GA  30024.0             NaN   \n",
       "\n",
       "  Consumer consent provided? Submitted via Date sent to company  \\\n",
       "0       Consent not provided           Web           2019-06-13   \n",
       "1           Consent provided           Web           2019-11-01   \n",
       "2       Consent not provided           Web           2019-04-01   \n",
       "3                        NaN      Referral           2019-04-16   \n",
       "4           Consent provided           Web           2020-04-21   \n",
       "\n",
       "  Company response to consumer Timely response? Consumer disputed?  \\\n",
       "0      Closed with explanation              Yes                NaN   \n",
       "1      Closed with explanation              Yes                NaN   \n",
       "2      Closed with explanation              Yes                NaN   \n",
       "3      Closed with explanation               No                NaN   \n",
       "4      Closed with explanation              Yes                NaN   \n",
       "\n",
       "   Complaint ID  \n",
       "0       3274605  \n",
       "1       3425257  \n",
       "2       3198225  \n",
       "3       3207424  \n",
       "4       3616748  "
      ]
     },
     "execution_count": 87,
     "metadata": {},
     "output_type": "execute_result"
    }
   ],
   "source": [
    "df = pd.read_csv('complaints.csv')\n",
    "df.head()"
   ]
  },
  {
   "cell_type": "markdown",
   "metadata": {},
   "source": [
    "Xử lý cột dữ liệu Tags, theo mô tả dữ liệu trên kaggle thì giá trị cột Tags bị thiếu quá nhiều, gần 90% giá trị bị thiếu ở cột này => Ta có thể bỏ cột này đi vì gần như nó không đóng góp gì cho việc phân tích dữ liệu sau này."
   ]
  },
  {
   "cell_type": "code",
   "execution_count": 88,
   "metadata": {},
   "outputs": [],
   "source": [
    "df = df.drop('Tags',axis=1)"
   ]
  },
  {
   "cell_type": "markdown",
   "metadata": {},
   "source": [
    "### Mỗi cột dữ liệu có ý nghĩa là gì?"
   ]
  },
  {
   "cell_type": "markdown",
   "metadata": {},
   "source": [
    "Data có tổng cộng 17 cột, với các ý nghĩa cơ bản của từng cột như sau:\n",
    "* Date received: Ngày nhận được khiếu nại\n",
    "* Product: Loại sản phẩm, dịch vụ khiếu nại,....\n",
    "* Sub product: Thêm thông tin, làm rõ hơn về sản phẩm, dịch vụ,... trong product\n",
    "* Issue: Vấn đề người dùng gặp phải\n",
    "* Sub-issue: Thông tin thêm, làm rõ về vấn đề gặp phải trong issue\n",
    "* Consumer complaint narrative: Miêu tả, phàn nàn, khiếu nại của người dùng đối với vấn đề họ gặp phải\n",
    "* Company public response: Phản hồi chính thức, công khai của phía công ty\n",
    "* Company: Tên công ty\n",
    "* State: Tên bang nơi người gửi\n",
    "* ZIP code : Mã zip ( giống mã bưu điện ) người gửi\n",
    "* Consumer consent provided: Người dùng có publish cái complaint narrative cho mọi người khác biết hay không\n",
    "* Submitted via: Khiếu nại được gửi thông qua dạng nào(web,fax,email,...)\n",
    "* Date sent to company: Ngày khiếu nại được gửi đến công ty\n",
    "* Company response to consumer: Tình trạng phản hồi, giải quyết của công ty đối với người khiếu nại\n",
    "* Timely response: Công ty có trả lời đúng thời hạn hay không\n",
    "* Consumer disputed?: Người dùng có muốn mở cuộc tranh chấp, cần bồi thường hay không\n",
    "* Complaint ID: ID của đơn khiếu nại"
   ]
  },
  {
   "cell_type": "markdown",
   "metadata": {},
   "source": [
    "### Dữ liệu có bao nhiêu dòng và bao nhiêu cột"
   ]
  },
  {
   "cell_type": "code",
   "execution_count": 89,
   "metadata": {
    "deletable": false,
    "nbgrader": {
     "cell_type": "code",
     "checksum": "607dbbe4997f90db7ca9d3e0c596d38a",
     "grade": false,
     "grade_id": "cell-8338f3610f6c5002",
     "locked": false,
     "schema_version": 3,
     "solution": true,
     "task": false
    }
   },
   "outputs": [
    {
     "data": {
      "text/plain": [
       "(2396033, 17)"
      ]
     },
     "execution_count": 89,
     "metadata": {},
     "output_type": "execute_result"
    }
   ],
   "source": [
    "size = df.shape\n",
    "size"
   ]
  },
  {
   "cell_type": "markdown",
   "metadata": {},
   "source": [
    "### Tìm các dòng bị lặp thông qua giá trị của cột 'Complaint ID'"
   ]
  },
  {
   "cell_type": "code",
   "execution_count": 90,
   "metadata": {},
   "outputs": [
    {
     "data": {
      "text/plain": [
       "0"
      ]
     },
     "execution_count": 90,
     "metadata": {},
     "output_type": "execute_result"
    }
   ],
   "source": [
    "num_duplicated_rows = df.duplicated(subset=['Complaint ID']).sum()\n",
    "num_duplicated_rows"
   ]
  },
  {
   "cell_type": "markdown",
   "metadata": {},
   "source": [
    "#### Kiểm tra giá trị ở cột Consumer disputed? "
   ]
  },
  {
   "cell_type": "code",
   "execution_count": 91,
   "metadata": {},
   "outputs": [
    {
     "data": {
      "text/plain": [
       "array([nan, 'No', 'Yes'], dtype=object)"
      ]
     },
     "execution_count": 91,
     "metadata": {},
     "output_type": "execute_result"
    }
   ],
   "source": [
    "df['Consumer disputed?'].unique()"
   ]
  },
  {
   "cell_type": "markdown",
   "metadata": {},
   "source": [
    "Trong trường hợp này ta có thể hiểu được rằng NaN sẽ có ý nghĩa tương đương với No, vì người dùng khi họ điền thông tin khiếu nại vấn đề thì có các vấn đề thì có thể phần này là phần optional, cho người dùng điền vào là có cần yêu cầu công ty bồi thường thiệt hại, tranh chấp tài sản gì không thì có người họ ghi rõ ràng là Yes, No nhưng có người họ thấy không có nhu cầu đó, nên tâm lý chung họ không cần nhu cầu đền bù thì họ không điền luôn, dẫn đến bị trống thông tin."
   ]
  },
  {
   "cell_type": "code",
   "execution_count": 92,
   "metadata": {},
   "outputs": [
    {
     "data": {
      "text/plain": [
       "array(['No', 'Yes'], dtype=object)"
      ]
     },
     "execution_count": 92,
     "metadata": {},
     "output_type": "execute_result"
    }
   ],
   "source": [
    "df['Consumer disputed?'] = df['Consumer disputed?'].fillna('No')\n",
    "df['Consumer disputed?'].unique()"
   ]
  },
  {
   "cell_type": "markdown",
   "metadata": {},
   "source": [
    "### Mỗi cột có kiểu dữ liệu gì?"
   ]
  },
  {
   "cell_type": "code",
   "execution_count": 93,
   "metadata": {},
   "outputs": [
    {
     "data": {
      "text/plain": [
       "Date received                   object\n",
       "Product                         object\n",
       "Sub-product                     object\n",
       "Issue                           object\n",
       "Sub-issue                       object\n",
       "Consumer complaint narrative    object\n",
       "Company public response         object\n",
       "Company                         object\n",
       "State                           object\n",
       "ZIP code                        object\n",
       "Consumer consent provided?      object\n",
       "Submitted via                   object\n",
       "Date sent to company            object\n",
       "Company response to consumer    object\n",
       "Timely response?                object\n",
       "Consumer disputed?              object\n",
       "Complaint ID                     int64\n",
       "dtype: object"
      ]
     },
     "execution_count": 93,
     "metadata": {},
     "output_type": "execute_result"
    }
   ],
   "source": [
    "df.dtypes"
   ]
  },
  {
   "cell_type": "markdown",
   "metadata": {},
   "source": [
    "Xem kiểu dữ liệu thật sự bên trong mỗi cột."
   ]
  },
  {
   "cell_type": "code",
   "execution_count": 94,
   "metadata": {},
   "outputs": [
    {
     "name": "stdout",
     "output_type": "stream",
     "text": [
      "Date received {<class 'str'>}\n",
      "Product {<class 'str'>}\n",
      "Sub-product {<class 'str'>, <class 'float'>}\n",
      "Issue {<class 'str'>}\n",
      "Sub-issue {<class 'str'>, <class 'float'>}\n",
      "Consumer complaint narrative {<class 'str'>, <class 'float'>}\n",
      "Company public response {<class 'str'>, <class 'float'>}\n",
      "Company {<class 'str'>}\n",
      "State {<class 'str'>, <class 'float'>}\n",
      "ZIP code {<class 'str'>, <class 'float'>}\n",
      "Consumer consent provided? {<class 'str'>, <class 'float'>}\n",
      "Submitted via {<class 'str'>}\n",
      "Date sent to company {<class 'str'>}\n",
      "Company response to consumer {<class 'str'>, <class 'float'>}\n",
      "Timely response? {<class 'str'>}\n",
      "Consumer disputed? {<class 'str'>}\n",
      "Complaint ID {<class 'int'>}\n"
     ]
    }
   ],
   "source": [
    "def open_object_dtype(s):\n",
    "    dtypes = set()\n",
    "    a = s.apply(lambda x: type(x))\n",
    "    dtypes = set((a.unique()))\n",
    "    return dtypes   \n",
    "col = df.columns\n",
    "for i in range(len(col)):\n",
    "    temp = open_object_dtype(df[col[i]])\n",
    "    print(str(col[i])+' ' +str(temp))"
   ]
  },
  {
   "cell_type": "markdown",
   "metadata": {},
   "source": [
    "### Chuyển 2 cột 'Date received' và 'Date sent to company' sang dạng Datetime"
   ]
  },
  {
   "cell_type": "code",
   "execution_count": 95,
   "metadata": {},
   "outputs": [],
   "source": [
    "df['Date received'] = pd.to_datetime(df['Date received'],format='%Y-%m-%d')\n",
    "df['Date sent to company'] = pd.to_datetime(df['Date sent to company'],format='%Y-%m-%d')"
   ]
  },
  {
   "cell_type": "code",
   "execution_count": 96,
   "metadata": {},
   "outputs": [
    {
     "data": {
      "text/plain": [
       "Date received                   datetime64[ns]\n",
       "Product                                 object\n",
       "Sub-product                             object\n",
       "Issue                                   object\n",
       "Sub-issue                               object\n",
       "Consumer complaint narrative            object\n",
       "Company public response                 object\n",
       "Company                                 object\n",
       "State                                   object\n",
       "ZIP code                                object\n",
       "Consumer consent provided?              object\n",
       "Submitted via                           object\n",
       "Date sent to company            datetime64[ns]\n",
       "Company response to consumer            object\n",
       "Timely response?                        object\n",
       "Consumer disputed?                      object\n",
       "Complaint ID                             int64\n",
       "dtype: object"
      ]
     },
     "execution_count": 96,
     "metadata": {},
     "output_type": "execute_result"
    }
   ],
   "source": [
    "df.dtypes"
   ]
  },
  {
   "cell_type": "markdown",
   "metadata": {},
   "source": [
    "#### Xét giá trị trong cột 'Date received' có lớn hơn giá trị trong cột 'Date sent to company'. Bởi vì nếu ngày received mà xảy ra sau ngày sent to company là vô lý. Ta sẽ không lấy các dòng vô lý đó."
   ]
  },
  {
   "cell_type": "code",
   "execution_count": 97,
   "metadata": {},
   "outputs": [
    {
     "data": {
      "text/plain": [
       "(2388981, 17)"
      ]
     },
     "execution_count": 97,
     "metadata": {},
     "output_type": "execute_result"
    }
   ],
   "source": [
    "df = df.loc[df['Date received'] <= df['Date sent to company']]\n",
    "df.shape"
   ]
  },
  {
   "cell_type": "markdown",
   "metadata": {},
   "source": [
    "---"
   ]
  },
  {
   "cell_type": "markdown",
   "metadata": {},
   "source": [
    "## Đặt câu hỏi "
   ]
  },
  {
   "cell_type": "markdown",
   "metadata": {},
   "source": [
    "Khi tìm hiều về dữ liệu và xem xét, thì chúng em đưa ra 2 vấn đề như sau:\n",
    "1. Theo từng giai đoạn, tỉ lệ phần trăn của từng loại vấn đề trong mỗi giai đoạn là như thế nào? Câu hỏi này sẽ cho ta biết được trong các giai đoạn khác nhau thì các vấn đề liên quan đến tài chính của người dân Mỹ tồn đọng nhiều nhất là gì, và có lý do nào đứng sau các vấn đề đó hay không. Và có thể trả lời được câu hỏi này ta cũng có thể khái quát phần nào các vấn đề của cả nước Mỹ đang gặp phải trong phát triển kinh tế(tất nhiên là có thể phần nào thôi, không thể nào trả lời được toàn bộ 100%, do để làm được điều đó thì cần rất nhiều yếu tố khác nữa, chính trị chẳng hạn chứ không chỉ riêng các vấn đề liên quan đến nền kinh tế đơn lẻ).\n",
    "\n",
    "\n",
    "2. Những công ty nào có khả năng xử lý, giải quyết các vấn đề của người dùng một cách thỏa đáng nhất? Việc đánh giá chất lượng công ty không chỉ đơn thuần qua những sản phẩm, dịch vụ họ cung cấp mà khả năng giải quyết vấn đề, khả năng chăm sóc người dùng với các vấn đề mà họ gặp phải nữa. Trả lời được câu hỏi này thì ta sẽ biết được các công ty nào chúng ta nên tin tưởng, đặc biệt là lĩnh vực tài chính như thế này thì việc chọn các công ty uy tín càng nên được chú trọng hơn."
   ]
  },
  {
   "cell_type": "markdown",
   "metadata": {},
   "source": [
    "## Xử lý, phân tích dữ liệu trả lời cho câu hỏi 1"
   ]
  },
  {
   "cell_type": "markdown",
   "metadata": {},
   "source": [
    "Các bước xử lí câu 1:\n",
    "- Có những giá trị nào xuất hiện trong cột Product.\n",
    "- Có bao nhiêu năm để ta chia các năm theo từng giai đoạn.\n",
    "- Tính % mỗi product theo từng giai đoạn.\n",
    "- Vẽ biểu đồ cột để thể hiện."
   ]
  },
  {
   "cell_type": "markdown",
   "metadata": {},
   "source": [
    "Các loại vấn đề xuất hiện trong dữ liệu:"
   ]
  },
  {
   "cell_type": "code",
   "execution_count": 98,
   "metadata": {},
   "outputs": [
    {
     "data": {
      "text/plain": [
       "Credit reporting, credit repair services, or other personal consumer reports    905199\n",
       "Debt collection                                                                 395997\n",
       "Mortgage                                                                        341805\n",
       "Credit reporting                                                                138699\n",
       "Credit card or prepaid card                                                     129578\n",
       "Checking or savings account                                                     107787\n",
       "Credit card                                                                      88028\n",
       "Bank account or service                                                          85806\n",
       "Student loan                                                                     63976\n",
       "Money transfer, virtual currency, or money service                               35448\n",
       "Consumer Loan                                                                    31462\n",
       "Vehicle loan or lease                                                            29565\n",
       "Payday loan, title loan, or personal loan                                        19945\n",
       "Payday loan                                                                       5517\n",
       "Money transfers                                                                   5274\n",
       "Prepaid card                                                                      3819\n",
       "Other financial service                                                           1058\n",
       "Virtual currency                                                                    18\n",
       "Name: Product, dtype: int64"
      ]
     },
     "execution_count": 98,
     "metadata": {},
     "output_type": "execute_result"
    }
   ],
   "source": [
    "df['Product'].value_counts()"
   ]
  },
  {
   "cell_type": "markdown",
   "metadata": {},
   "source": [
    "Các năm trong dữ liệu:"
   ]
  },
  {
   "cell_type": "code",
   "execution_count": 99,
   "metadata": {},
   "outputs": [
    {
     "data": {
      "text/plain": [
       "2021    478008\n",
       "2020    444357\n",
       "2019    277342\n",
       "2018    257281\n",
       "2017    242948\n",
       "2016    191461\n",
       "2015    168468\n",
       "2014    149136\n",
       "2013    105290\n",
       "2012     72170\n",
       "2011      2520\n",
       "Name: Date received, dtype: int64"
      ]
     },
     "execution_count": 99,
     "metadata": {},
     "output_type": "execute_result"
    }
   ],
   "source": [
    "df['Date received'].dt.year.value_counts(dropna=False)"
   ]
  },
  {
   "cell_type": "code",
   "execution_count": 100,
   "metadata": {},
   "outputs": [],
   "source": [
    "#Chia các năm thành 3 giai đoạn với số năm gần như bằng nhau.\n",
    "lap_1 = [2011,2012,2013,2014] # giai đọan 2011-2014\n",
    "lap_2 = [2015,2016,2017,2018] # giai đoạn 2015-2018\n",
    "lap_3 = [2019,2020,2021] # giai đoạn 2019-2021\n",
    "\n",
    "df_lap_1 = df[df['Date received'].dt.year.isin(lap_1)]['Product'].value_counts(normalize=True,dropna=False) * 100\n",
    "df_lap_2 = df[df['Date received'].dt.year.isin(lap_2)]['Product'].value_counts(normalize=True,dropna=False) * 100\n",
    "df_lap_3 = df[df['Date received'].dt.year.isin(lap_3)]['Product'].value_counts(normalize=True,dropna=False) * 100"
   ]
  },
  {
   "cell_type": "markdown",
   "metadata": {},
   "source": [
    "Trực quan hóa dữ liệu:"
   ]
  },
  {
   "cell_type": "code",
   "execution_count": 101,
   "metadata": {},
   "outputs": [
    {
     "data": {
      "image/png": "[encoded data removed]",
      "text/plain": [
       "<Figure size 432x288 with 1 Axes>"
      ]
     },
     "metadata": {
      "needs_background": "light"
     },
     "output_type": "display_data"
    }
   ],
   "source": [
    "plt.barh(df_lap_1.index, df_lap_1.values)\n",
    "plt.xlabel('Tỉ lệ %')\n",
    "plt.ylabel('Từng vấn đề')\n",
    "plt.show()"
   ]
  },
  {
   "cell_type": "markdown",
   "metadata": {},
   "source": [
    "Với giai đoạn này thì ta có thể thấy vấn đề liên quan đến Mortage(nhu cầu vay mượn, thế chấp) cao hơn hẳn các vấn đề còn lại, hơn khoảng 2,5 lần so với vấn đề thứ 2 là debt collection( thu tiền nợ). Có thế thấy  giai đoạn này người dùng rất hay có nhu cầu này có thể để đầu tư kinh doanh, hoặc có thể cũng là do cần tiền để trả nợ(các vấn đề trong việc thu tiền nợ là đứng 2 như đã thấy). Xem lại thực tế một chút thì trước đó ở Mỹ có xảy ra cuộc khủng hoảng kinh tế lớn giai đoạn 2007-2009. Và có thể vào những năm trong giai đoạn 2011 này thì mọi người phải cố gắng khắc phục hậu quả do cuộc khủng hoảng gây ra(do việc kinh doanh không thuận lợi, thất nghiệp vân vân....) nên họ phải tính đến chuyện thế chấp, cầm cố tài sản để rồi từ đó phát sinh ra nhiều vấn đề xung quanh việc này, hay cũng có thể do chính phủ quản lý việc này chưa tốt do tàn dư của khủng hoảng trước đó nữa."
   ]
  },
  {
   "cell_type": "code",
   "execution_count": 102,
   "metadata": {},
   "outputs": [
    {
     "data": {
      "image/png": "[encoded data removed]",
      "text/plain": [
       "<Figure size 432x288 with 1 Axes>"
      ]
     },
     "metadata": {
      "needs_background": "light"
     },
     "output_type": "display_data"
    }
   ],
   "source": [
    "plt.barh(df_lap_2.index, df_lap_2.values)\n",
    "plt.xlabel('Tỉ lệ %')\n",
    "plt.ylabel('Từng vấn đề')\n",
    "plt.show()"
   ]
  },
  {
   "cell_type": "markdown",
   "metadata": {},
   "source": [
    "Sang đến giai đoạn này thì các số liệu về các vấn đề có vẻ đã tương đồng nhau hơn, nhu cầu vay mượn không còn nhiều nữa mà thay vào đó các vấn liên quan đến thẻ tín dụng, các nhu cầu cá nhân tăng cao => Có vẻ như nền kinh tế lúc nãy đã ổn định trở lại, và nhịp sống của con người đã ổn định hơn, người ta bắt đầu sử dụng tiền bạc, tài sản thoải mái hơn 1 chút từ đó không còn quá nhiều vấn đề liên quan vay mượn nữa mà các vấn đề liên quan đến sử dụng tiền bạc phát sinh ra nhiều hơn giai đoạn trước."
   ]
  },
  {
   "cell_type": "code",
   "execution_count": 103,
   "metadata": {},
   "outputs": [
    {
     "data": {
      "image/png": "[encoded data removed]",
      "text/plain": [
       "<Figure size 432x288 with 1 Axes>"
      ]
     },
     "metadata": {
      "needs_background": "light"
     },
     "output_type": "display_data"
    }
   ],
   "source": [
    "plt.barh(df_lap_3.index, df_lap_3.values)\n",
    "plt.xlabel('Tỉ lệ %')\n",
    "plt.ylabel('Từng vấn đề')\n",
    "plt.show()"
   ]
  },
  {
   "cell_type": "markdown",
   "metadata": {},
   "source": [
    "Sang đến giai đoạn gần đây nhất thì các vấn đề liên quan đến tài chính cá nhân, tiền bạc, thẻ ngân hàng, tín dụng,... vẫn chiếm số lượng nhiều nhất và chiếm tỉ lệ vượt trội so với các vấn đề khác(gần 60%), có thể thấy giai đoạn này kinh tế đã ổn định và phát triển trở lại, và có lẽ vậy nên người ta tậpp trung nhiều hẳn vào các vấn đề chi tiêu các nhân và gây ra khá nhiều vấn đề xung quanh việc này. Có lẻ một phần do các công ty tài chính chưa thực sự kiểm soát tốt các chất lượng trong dịch vụ của mình cung cấp, hay do số lượng nhu cầu quá nhiều dẫn đến sai sót trong cách quản lý đối với các vấn đề mắc phải."
   ]
  },
  {
   "cell_type": "markdown",
   "metadata": {},
   "source": [
    "## Xử lý, phân tích dữ liệu trả lời cho câu hỏi 2"
   ]
  },
  {
   "cell_type": "markdown",
   "metadata": {},
   "source": [
    "Đầu tiên, chúng ta sẽ lọc ra những công ty xuất hiện trên 1000 lần trong dữ liệu này. Lý do là vì khi đánh giá một công ty thì chúng ta cần một tập số liệu đủ lớn, chứ không thể chỉ đánh giá một công ty mà chỉ có một hay vài trường hợp mà thôi. Có thể ta thấy hơi lấn cấn ở chỗ này một chút, nếu một công ty ít lời khiếu nại thì nó phải tốt hơn một công ty nhiều lời khiếu nại chứ nhỉ? Có thể lý giải cho vấn đề này như sau: Thứ nhất là trong câu hỏi này ta đánh giá về một phương diện của công ty đó là khả năng xử lý, giải quyết cho người dùng khi họ gặp vấn đề, nói chung là vấn đề hậu mãi sau khi cung cấp dịch vụ, đó là mục tiêu chính của ta trong phần này. Thứ hai, một công ty ít gặp vấn đề, khiếu nại,... thì có thể không hẳn là do công ty đó ít 'phốt', công ty đó tốt mà có thể do quá ít người dùng dịch vụ của công ty đó, quá ít người biết đến công ty, nên thành ra các trục trặc phát sinh đối với dịch vụ mà công ty cung cấp cũng ít theo. Và việc ta đánh giá một công ty nhỏ, có ít người dùng như vậy thì cũng một phần không được công bằng với các công ty lớn khác, vì khối lượng, áp lực xử lý công việc của các công ty nhỏ đó có thể nhỏ hơn rất nhiều so với áp lực mà công ty lớn hơn phải đối mặt.\n",
    "\n",
    "Câu hỏi phần này chúng ta tập trung giải quyết xem liệu công ty nào sẽ đảm bảo được quyền lợi tốt nhất cho người dùng, ít nhất cũng là về mặt xử lý vấn đề phát sinh trong quá trình sử dụng của người sử dụng dịch vụ, còn tất nhiên để đánh giá một công ty là tốt hay xấu thì còn rất nhiều vấn đề liên quan chứ không chỉ riêng mỗi hạng mục này."
   ]
  },
  {
   "cell_type": "code",
   "execution_count": 104,
   "metadata": {},
   "outputs": [],
   "source": [
    "temp = df['Company'].value_counts()\n",
    "temp = temp[temp > 1000]\n",
    "df_Large_Comp = df[df['Company'].isin(temp.index)]"
   ]
  },
  {
   "cell_type": "code",
   "execution_count": 105,
   "metadata": {},
   "outputs": [
    {
     "data": {
      "text/plain": [
       "Closed with explanation            1727907\n",
       "Closed with non-monetary relief     230369\n",
       "Closed with monetary relief          99904\n",
       "Closed without relief                17549\n",
       "In progress                          15780\n",
       "Closed                               10626\n",
       "Closed with relief                    5189\n",
       "Untimely response                      926\n",
       "Name: Company response to consumer, dtype: int64"
      ]
     },
     "execution_count": 105,
     "metadata": {},
     "output_type": "execute_result"
    }
   ],
   "source": [
    "df_Large_Comp['Company response to consumer'].value_counts()"
   ]
  },
  {
   "cell_type": "markdown",
   "metadata": {},
   "source": [
    "### Giải thích sơ bộ về ý nghĩa của các giá trị\n",
    "\n",
    "Closed with explanation : Kết thúc với lời giải thích cho người dùng.\n",
    "\n",
    "Closed with non-monetary relief: Kết thúc với việc công ty khắc phục tổn hại cho người dùng bằng các hình thức ngoài tiền bạc điển hình như việc chỉnh sửa điều khoản hợp đồng.\n",
    "\n",
    "Closed with monetary relief: Kết thúc với việc công ty chi đền bù, khắc phục tổn hại cho người dùng bằng tiền bạc.\n",
    "\n",
    "Closed without relief : Kết thúc mà không có khoản chi trả, khắc phục nào cho người dùng.\n",
    "\n",
    "In progress : Vẫn đang trong quá trình giải quyết.\n",
    "\n",
    "Closed : Kết thúc mà không có lời giải thích, giải quyết rõ ràng nào.\n",
    "\n",
    "Closed with relief : Kết thúc và có sự đền bù, bồi thường ( bằng 1 hình thức nào đó ).\n",
    "\n",
    "Untimely response : Phía công ty phản hồi không kịp thời, không giải quyết vấn đề người dùng trong thời gian quy định."
   ]
  },
  {
   "cell_type": "markdown",
   "metadata": {},
   "source": [
    "Từ các định nghĩa trên thì chúng em phân ra được các yếu tố thành 2 dạng sau: \n",
    "\n",
    "    Tích cực: Closed with explanation, Closed with non-monetary relief, Closed with monetary relief, Closed with relief\n",
    "\n",
    "    Tiêu cực: Closed without relief, Closed, Untimely response, In progress                        "
   ]
  },
  {
   "cell_type": "markdown",
   "metadata": {},
   "source": [
    "Bọn em quyết định đánh giá các công ty theo các tiêu chí chính như sau: \n",
    "\n",
    "1.  Tính tích cực trong phản hồi của công ty đối với khách hàng\n",
    "2.  Mức độ phản hồi đúng thời hạn của công ty đối với khách hàng\n",
    "3.  Khách hàng có muốn yêu cầu tranh chấp gì thêm sau khi nhận được phản hồi hay không?"
   ]
  },
  {
   "cell_type": "code",
   "execution_count": 106,
   "metadata": {},
   "outputs": [],
   "source": [
    "optimis = ['Closed with explanation', 'Closed with non-monetary relief', 'Closed with monetary relief', 'Closed with relief']\n",
    "\n",
    "optimis_res = df_Large_Comp[df_Large_Comp['Company response to consumer'].isin(optimis)]\n",
    "\n",
    "optimis_time = df_Large_Comp[df_Large_Comp['Timely response?'] == 'Yes']\n",
    "\n",
    "optimis_dispute = df_Large_Comp[df_Large_Comp['Consumer disputed?'] == 'No']\n"
   ]
  },
  {
   "cell_type": "markdown",
   "metadata": {},
   "source": [
    "Ở đây ta sẽ thấy top 10 công ty có tổng số các giá trị tích cực tốt nhất theo các tiêu chí đã trình bày"
   ]
  },
  {
   "cell_type": "code",
   "execution_count": 107,
   "metadata": {},
   "outputs": [
    {
     "data": {
      "text/plain": [
       "EQUIFAX, INC.                             367914\n",
       "TRANSUNION INTERMEDIATE HOLDINGS, INC.    265167\n",
       "Experian Information Solutions Inc.       253351\n",
       "BANK OF AMERICA, NATIONAL ASSOCIATION     100689\n",
       "WELLS FARGO & COMPANY                      88194\n",
       "JPMORGAN CHASE & CO.                       81796\n",
       "CITIBANK, N.A.                             69439\n",
       "CAPITAL ONE FINANCIAL CORPORATION          59888\n",
       "Navient Solutions, LLC.                    35057\n",
       "SYNCHRONY FINANCIAL                        34200\n",
       "Name: Company, dtype: int64"
      ]
     },
     "execution_count": 107,
     "metadata": {},
     "output_type": "execute_result"
    }
   ],
   "source": [
    "optimis_res = optimis_res['Company'].value_counts().head(10)\n",
    "optimis_res"
   ]
  },
  {
   "cell_type": "code",
   "execution_count": 108,
   "metadata": {},
   "outputs": [
    {
     "data": {
      "text/plain": [
       "EQUIFAX, INC.                             367100\n",
       "TRANSUNION INTERMEDIATE HOLDINGS, INC.    273567\n",
       "Experian Information Solutions Inc.       255334\n",
       "BANK OF AMERICA, NATIONAL ASSOCIATION     105041\n",
       "WELLS FARGO & COMPANY                      87701\n",
       "JPMORGAN CHASE & CO.                       84517\n",
       "CITIBANK, N.A.                             70673\n",
       "CAPITAL ONE FINANCIAL CORPORATION          61280\n",
       "Navient Solutions, LLC.                    35327\n",
       "SYNCHRONY FINANCIAL                        34805\n",
       "Name: Company, dtype: int64"
      ]
     },
     "execution_count": 108,
     "metadata": {},
     "output_type": "execute_result"
    }
   ],
   "source": [
    "optimis_time = optimis_time['Company'].value_counts().head(10)\n",
    "optimis_time"
   ]
  },
  {
   "cell_type": "code",
   "execution_count": 109,
   "metadata": {},
   "outputs": [
    {
     "data": {
      "text/plain": [
       "EQUIFAX, INC.                             358934\n",
       "TRANSUNION INTERMEDIATE HOLDINGS, INC.    268102\n",
       "Experian Information Solutions Inc.       250116\n",
       "BANK OF AMERICA, NATIONAL ASSOCIATION      93232\n",
       "WELLS FARGO & COMPANY                      79867\n",
       "JPMORGAN CHASE & CO.                       75172\n",
       "CITIBANK, N.A.                             64417\n",
       "CAPITAL ONE FINANCIAL CORPORATION          57748\n",
       "SYNCHRONY FINANCIAL                        32882\n",
       "Navient Solutions, LLC.                    32281\n",
       "Name: Company, dtype: int64"
      ]
     },
     "execution_count": 109,
     "metadata": {},
     "output_type": "execute_result"
    }
   ],
   "source": [
    "optimis_dispute = optimis_dispute['Company'].value_counts().head(10)\n",
    "optimis_dispute"
   ]
  },
  {
   "cell_type": "markdown",
   "metadata": {},
   "source": [
    "Dựa vào các kết quả trên, ta có được danh sách top 10 công ty tốt nhất theo từng các tiêu chí đã nêu trên"
   ]
  },
  {
   "cell_type": "code",
   "execution_count": 110,
   "metadata": {},
   "outputs": [],
   "source": [
    "Big_10 = ['EQUIFAX, INC.','TRANSUNION INTERMEDIATE HOLDINGS, INC.','Experian Information Solutions Inc.',\n",
    "          'BANK OF AMERICA, NATIONAL ASSOCIATION','WELLS FARGO & COMPANY','JPMORGAN CHASE & CO.','CITIBANK, N.A.',\n",
    "          'CAPITAL ONE FINANCIAL CORPORATION','SYNCHRONY FINANCIAL','Navient Solutions, LLC.']\n",
    "df_Big_10 = df_Large_Comp[df_Large_Comp['Company'].isin(Big_10)]"
   ]
  },
  {
   "cell_type": "markdown",
   "metadata": {},
   "source": [
    "Tiếp theo ta sẽ xếp hạng 10 công ty này, xem mức độ chăm sóc khách hàng của các công ty theo thứ tự.\n",
    "\n",
    "Đầu tiên ta tính tỉ lệ các giá trị tích cực trên tổng số lần xuất hiện của công ty có trong dữ liệu theo 3 tiêu chí chính."
   ]
  },
  {
   "cell_type": "code",
   "execution_count": 111,
   "metadata": {},
   "outputs": [
    {
     "data": {
      "text/plain": [
       "EQUIFAX, INC.                             99.741100\n",
       "Navient Solutions, LLC.                   99.227286\n",
       "Experian Information Solutions Inc.       99.219873\n",
       "SYNCHRONY FINANCIAL                       98.213773\n",
       "CITIBANK, N.A.                            97.744964\n",
       "CAPITAL ONE FINANCIAL CORPORATION         97.601043\n",
       "TRANSUNION INTERMEDIATE HOLDINGS, INC.    96.895452\n",
       "JPMORGAN CHASE & CO.                      96.670724\n",
       "WELLS FARGO & COMPANY                     96.379512\n",
       "BANK OF AMERICA, NATIONAL ASSOCIATION     93.657216\n",
       "Name: Company, dtype: float64"
      ]
     },
     "execution_count": 111,
     "metadata": {},
     "output_type": "execute_result"
    }
   ],
   "source": [
    "#Tiêu chí phản hồi:\n",
    "Top_10_res = (optimis_res * 100 / df_Big_10['Company'].value_counts()).sort_values(ascending=False)\n",
    "Top_10_res"
   ]
  },
  {
   "cell_type": "code",
   "execution_count": 112,
   "metadata": {},
   "outputs": [
    {
     "data": {
      "text/plain": [
       "Experian Information Solutions Inc.       99.996475\n",
       "Navient Solutions, LLC.                   99.991509\n",
       "TRANSUNION INTERMEDIATE HOLDINGS, INC.    99.964920\n",
       "SYNCHRONY FINANCIAL                       99.951180\n",
       "JPMORGAN CHASE & CO.                      99.886542\n",
       "CAPITAL ONE FINANCIAL CORPORATION         99.869622\n",
       "EQUIFAX, INC.                             99.520426\n",
       "CITIBANK, N.A.                            99.481989\n",
       "BANK OF AMERICA, NATIONAL ASSOCIATION     97.705287\n",
       "WELLS FARGO & COMPANY                     95.840755\n",
       "Name: Company, dtype: float64"
      ]
     },
     "execution_count": 112,
     "metadata": {},
     "output_type": "execute_result"
    }
   ],
   "source": [
    "#Tiêu chí thời gian:\n",
    "Top_10_time = (optimis_time * 100 / df_Big_10['Company'].value_counts()).sort_values(ascending=False)\n",
    "Top_10_time"
   ]
  },
  {
   "cell_type": "code",
   "execution_count": 113,
   "metadata": {},
   "outputs": [
    {
     "data": {
      "text/plain": [
       "TRANSUNION INTERMEDIATE HOLDINGS, INC.    97.967939\n",
       "Experian Information Solutions Inc.       97.952950\n",
       "EQUIFAX, INC.                             97.306632\n",
       "SYNCHRONY FINANCIAL                       94.428809\n",
       "CAPITAL ONE FINANCIAL CORPORATION         94.113429\n",
       "Navient Solutions, LLC.                   91.369941\n",
       "CITIBANK, N.A.                            90.675807\n",
       "JPMORGAN CHASE & CO.                      88.842140\n",
       "WELLS FARGO & COMPANY                     87.279662\n",
       "BANK OF AMERICA, NATIONAL ASSOCIATION     86.720988\n",
       "Name: Company, dtype: float64"
      ]
     },
     "execution_count": 113,
     "metadata": {},
     "output_type": "execute_result"
    }
   ],
   "source": [
    "#Tiêu chí tranh chấp:\n",
    "Top_10_dispute = (optimis_dispute * 100 / df_Big_10['Company'].value_counts()).sort_values(ascending=False)\n",
    "Top_10_dispute"
   ]
  },
  {
   "cell_type": "markdown",
   "metadata": {},
   "source": [
    "Như vậy ta có thể thấy là với mỗi tiêu chí thì thứ tự các công ty khác nhau, cho thấy là mỗi công ty có điểm tốt riêng của mình. Có lẽ trong trường hợp này ta cần 1 thang điểm đánh giá chung cho các công ty, để cho ra một kết quả cuối cùng tốt nhất.\n",
    "\n",
    "Bọn em sẽ đưa ra thang điểm để đánh giá theo mức độ quan trọng của các yếu tố như sau: \n",
    "\n",
    "Consumer disputed = 45% \n",
    "\n",
    "Company response to consumer = 35%\n",
    "\n",
    "Timely response = 20%\n",
    "\n",
    "Thang điểm trên được dựa vào tiêu chí riêng của bọn em: \n",
    "- Disputed đứng cao nhất vì nếu công ty giải quyết vấn đề thỏa đáng thì sẽ không bị khách hàng yêu cầu bồi thường.\n",
    "- Tiếp theo là response, vì nhận được phản hồi tiêu cực sẽ ảnh hưởng đến việc khách hàng không còn niềm tin ở công ty nữa.\n",
    "- Phần còn lại sẽ là Timely."
   ]
  },
  {
   "cell_type": "code",
   "execution_count": 114,
   "metadata": {},
   "outputs": [
    {
     "data": {
      "text/plain": [
       "Experian Information Solutions Inc.       98.805078\n",
       "EQUIFAX, INC.                             98.601455\n",
       "TRANSUNION INTERMEDIATE HOLDINGS, INC.    97.991965\n",
       "SYNCHRONY FINANCIAL                       96.858021\n",
       "CAPITAL ONE FINANCIAL CORPORATION         96.485332\n",
       "Navient Solutions, LLC.                   95.844325\n",
       "CITIBANK, N.A.                            94.911248\n",
       "JPMORGAN CHASE & CO.                      93.791025\n",
       "WELLS FARGO & COMPANY                     92.176828\n",
       "BANK OF AMERICA, NATIONAL ASSOCIATION     91.345528\n",
       "Name: Company, dtype: float64"
      ]
     },
     "execution_count": 114,
     "metadata": {},
     "output_type": "execute_result"
    }
   ],
   "source": [
    "Final_optimis_10 = ((Top_10_res * 0.35 + Top_10_time * 0.2 + Top_10_dispute * 0.45)).sort_values(ascending=False)\n",
    "Final_optimis_10"
   ]
  },
  {
   "cell_type": "markdown",
   "metadata": {},
   "source": [
    "Tuy nhiên, vì là thang điểm được dựa vào tiêu chí riêng của bọn em nên có thể đúng có thể sai nên em sẽ tính thêm với % được chia đều cho 3 tiêu chí."
   ]
  },
  {
   "cell_type": "code",
   "execution_count": 115,
   "metadata": {},
   "outputs": [
    {
     "data": {
      "text/plain": [
       "Experian Information Solutions Inc.       99.056433\n",
       "EQUIFAX, INC.                             98.856053\n",
       "TRANSUNION INTERMEDIATE HOLDINGS, INC.    98.276104\n",
       "SYNCHRONY FINANCIAL                       97.531254\n",
       "CAPITAL ONE FINANCIAL CORPORATION         97.194698\n",
       "Navient Solutions, LLC.                   96.862912\n",
       "CITIBANK, N.A.                            95.967587\n",
       "JPMORGAN CHASE & CO.                      95.133136\n",
       "WELLS FARGO & COMPANY                     93.166643\n",
       "BANK OF AMERICA, NATIONAL ASSOCIATION     92.694497\n",
       "Name: Company, dtype: float64"
      ]
     },
     "execution_count": 115,
     "metadata": {},
     "output_type": "execute_result"
    }
   ],
   "source": [
    "Optimis_10_without_rate = Final_optimis_10 = ((Top_10_res  + Top_10_time  + Top_10_dispute) / 3).sort_values(ascending=False)\n",
    "Optimis_10_without_rate"
   ]
  },
  {
   "cell_type": "markdown",
   "metadata": {},
   "source": [
    "Theo ta thấy thì dù có chia tỉ lệ cho các tiêu chí hay không thì xếp hạng 10 công ty sẽ không thay đổi. Vậy nên ta sẽ lấy dữ liệu được chia tỉ lệ cho các tiêu chí làm dữ liệu để trực quan hóa. "
   ]
  },
  {
   "cell_type": "markdown",
   "metadata": {},
   "source": [
    "#### Tiêu chí phụ: \n",
    "\n",
    "Xét xem công ty tài chính được những người dùng ở những nơi nào trên nước Mỹ sử dụng dịch vụ qua cột 'State'. Bởi nếu công ty được quảng bá tốt và được nhiều người tin dùng sẽ dễ tiếp cận với nhiều người dùng hơn.\n",
    "\n",
    "- Xóa các dòng có chứa giá trị nan trong cột State\n",
    "- Xem sự chênh lệch mức độ bao phủ của từng công ty."
   ]
  },
  {
   "cell_type": "markdown",
   "metadata": {},
   "source": [
    "Xóa các dòng có chứa giá trị nan trong cột State"
   ]
  },
  {
   "cell_type": "code",
   "execution_count": 116,
   "metadata": {},
   "outputs": [
    {
     "name": "stdout",
     "output_type": "stream",
     "text": [
      "['PA' 'GA' 'NY' 'MT' 'FL' 'CT' 'IL' 'CA' 'MI' 'OH' 'WA' 'VA' 'NJ' 'NC'\n",
      " 'AZ' 'TN' 'TX' 'LA' 'CO' 'IA' 'MD' 'MO' 'OR' nan 'NE' 'MS' 'IN' 'AL' 'DE'\n",
      " 'NV' 'SC' 'VT' 'DC' 'AR' 'KY' 'PR' 'MA' 'UT' 'MN' 'ID' 'WI' 'NM' 'NH'\n",
      " 'OK' 'ME' 'HI' 'KS' 'AP' 'SD' 'WY' 'WV' 'RI' 'AK' 'GU' 'ND' 'AE' 'AA'\n",
      " 'UNITED STATES MINOR OUTLYING ISLANDS' 'VI' 'MP' 'AS' 'FM' 'MH' 'PW']\n",
      "64\n"
     ]
    }
   ],
   "source": [
    "print(df_Big_10.State.unique())\n",
    "print(len(df_Big_10.State.unique()))"
   ]
  },
  {
   "cell_type": "code",
   "execution_count": 117,
   "metadata": {},
   "outputs": [
    {
     "name": "stderr",
     "output_type": "stream",
     "text": [
      "C:\\Users\\Admin\\AppData\\Local\\Temp/ipykernel_19784/2821038238.py:1: SettingWithCopyWarning: \n",
      "A value is trying to be set on a copy of a slice from a DataFrame\n",
      "\n",
      "See the caveats in the documentation: https://pandas.pydata.org/pandas-docs/stable/user_guide/indexing.html#returning-a-view-versus-a-copy\n",
      "  df_Big_10.dropna(subset = [\"State\"], inplace=True)\n"
     ]
    },
    {
     "data": {
      "text/plain": [
       "63"
      ]
     },
     "execution_count": 117,
     "metadata": {},
     "output_type": "execute_result"
    }
   ],
   "source": [
    "df_Big_10.dropna(subset = [\"State\"], inplace=True)\n",
    "len(df_Big_10.State.unique())"
   ]
  },
  {
   "cell_type": "markdown",
   "metadata": {},
   "source": [
    "Xem sự chênh lệch mức độ bao phủ của từng công ty."
   ]
  },
  {
   "cell_type": "code",
   "execution_count": 118,
   "metadata": {},
   "outputs": [
    {
     "data": {
      "text/plain": [
       "Company\n",
       "EQUIFAX, INC.                             63\n",
       "WELLS FARGO & COMPANY                     63\n",
       "CAPITAL ONE FINANCIAL CORPORATION         62\n",
       "CITIBANK, N.A.                            62\n",
       "Experian Information Solutions Inc.       62\n",
       "JPMORGAN CHASE & CO.                      62\n",
       "TRANSUNION INTERMEDIATE HOLDINGS, INC.    62\n",
       "BANK OF AMERICA, NATIONAL ASSOCIATION     61\n",
       "Navient Solutions, LLC.                   61\n",
       "SYNCHRONY FINANCIAL                       61\n",
       "Name: State, dtype: int64"
      ]
     },
     "execution_count": 118,
     "metadata": {},
     "output_type": "execute_result"
    }
   ],
   "source": [
    "df_Big_10[['Company','State']].groupby('Company').State.nunique().sort_values(ascending=False)"
   ]
  },
  {
   "cell_type": "markdown",
   "metadata": {},
   "source": [
    "Mức độ bao phủ của top 10 công ty gần như là giống nhau vậy nên ta sẽ bỏ qua tiêu chí phụ và sử dụng 3 tiêu chí chính để đánh giá công ty tài chính."
   ]
  },
  {
   "cell_type": "markdown",
   "metadata": {},
   "source": [
    "Ta thấy điểm tổng cuối cùng ( trên thang 100 ) của các công ty như trên, và từ đây ta đã có được ranking của 10 công ty tốt nhất mà người dùng nên chọn dựa theo cách tính đã nêu. Như vậy dựa vào danh sách xếp hạng này thì người dùng có thể xem là công ty nào xứng đáng để mình sử dụng dịch vụ( chí ít là về khoản giải quyết vấn đề cho người dùng)"
   ]
  },
  {
   "cell_type": "code",
   "execution_count": 119,
   "metadata": {},
   "outputs": [
    {
     "data": {
      "image/png": "[encoded data removed]",
      "text/plain": [
       "<Figure size 432x288 with 1 Axes>"
      ]
     },
     "metadata": {
      "needs_background": "light"
     },
     "output_type": "display_data"
    }
   ],
   "source": [
    "plt.barh(Final_optimis_10.index, Final_optimis_10.values)\n",
    "plt.xlabel('Tỉ lệ %')\n",
    "plt.ylabel('Tên công ty')\n",
    "plt.show()"
   ]
  },
  {
   "cell_type": "markdown",
   "metadata": {},
   "source": [
    "---"
   ]
  },
  {
   "cell_type": "markdown",
   "metadata": {},
   "source": [
    "## Đôi lời cuối cùng - Nhìn lại quá trình thực hiện đồ án"
   ]
  },
  {
   "cell_type": "markdown",
   "metadata": {},
   "source": [
    "### Đối với Long:\n",
    "- Nhận ra được tầm quan trọng của khâu chuẩn bị, tìm kiếm dữ liệu phân tích. Em cảm thấy đây là phần khó khăn nhất khi phải tìm kiếm dữ liệu sao cho đủ chiều sâu và chiều rộng để có thểm đảm bảo kết quả phân tích dữ liệu sẽ nói lên một điều hữu ích.\n",
    "    \n",
    "- Vì dữ liệu lấy trên kaggle nhưng dữ liệu gốc ở 1 trang khác, nên phải sang trang gốc đó để tìm hiểu lại ý nghĩa kỹ càng hơn của dữ liệu, chứ người upload trên kaggle không đưa ra file ghi rõ ý nghĩa. Quá trình này gây khó khăn bởi vì các ý nghĩa của cột cũng như của các giá trị có liên quan đến tài chính, em phải lên mạng tìm hiểu thêm, rồi hỏi bạn bè đang học về lĩnh vực này để đảm bảo hiểu đúng các thông tin trong dữ liệu.\n",
    "\n",
    "### Đối với Khuê:\n",
    "- Học thêm được về kỹ năng tìm hiểu dữ liệu, khám phá dữ liệu hơn. Trước giờ trong các bài lab thì phần tìm kiếm dữ liệu, cũng như các insight về dữ liệu được thầy cung cấp sẵn, chủ yếu em chỉ phải thực hiện thao tác luyện tập với các thư viện, câu lệnh để xử lý theo yêu cầu thầy nêu ra. Còn giờ em phải tự xử lý mọi thứ, từ tìm dữ liệu, hiểu về dữ liệu, phân tích dữ liệu thế nào để cho ra kết quả hợp lý,. Và phần tìm kiếm, hiểu về dữ liệu là một vấn đề thực sự khó khăn, trước giờ em cứ nghĩ là dữ liệu thì đầy rẫy ra, mình lấy về rồi đọc một chút là được, chủ yếu khó ở phần phải nhớ là dùng các hàm, thư viện nào để xử lý được nhanh nhất; nhưng xong đồ án thì em mới cảm nhận rõ ràng hơn về độ khó khăn của những bước đầu tiên là thế nào.\n",
    "\n",
    "- Cũng gặp khó khăn trong việc hiểu về dữ liệu và có những thuật ngữ,ý nghĩa liên quan mật thiết đến kinh tế, một lĩnh vực em chưa hiểu nhiều, dẫn đến khó khăn khi phân tích dữ liệu.\n",
    "\n",
    "### Đối với cả nhóm (nhìn lại toàn bộ quá trình thực hiện của nhóm):\n",
    "- Khó khăn chung đầu tiên của cả nhóm gặp phải là tìm dữ liệu. Cả hai chúng em ban đầu cứ nghĩ tìm dữ liệu trên kaggle 1 buổi là xong, do thấy có rất nhiều dữ liệu, kiểu tha hồ mà chọn. Tuy nhiên khi bắt tay vào làm mới thấy sự khó khăn này khi mà có dữ liệu này chủ đề khá hay nhưng khi xem kỹ thì thấy thiếu chiều sâu ( ít cột quá, không nói lên gì nhiều); có dữ liệu khác thì lại không đủ độ lớn( số dòng) để giúp tăng độ tin cậy hơn,...Những buổi họp nhóm tìm dữ liệu đâu tiên là tụi em cứ loay hoay, lẩn quẩn trong việc tìm dữ liệu. Tới lúc mà tìm được dữ liệu rồi, nghĩ là ổn rồi và định là từ bữa sau sẽ bắt đầu đi vào phân tích, thì lúc off 2 đứa tự xem lại dữ liệu thì lại thay phiên nhau phát hiện ra những điều chưa ổn của dữ liệu đó, thế là bữa sau lại lên tìm kiếm dữ liệu tiếp. Phải mất hơn 1 tuần đầu tiên thì bọn em mới chốt được dữ liệu mình sẽ sử dụng cho bài.\n",
    "\n",
    "- Một khó khăn nữa là thời gian làm đồ án trùng với khá nhiều các mốc thời gian đồ án của các môn khác cũng như của HW3. Bọn em phải làm kiểu khá nhiều thứ trong 1 khoảng thời gian, các môn khác đến cuối kỳ cũng có nhiều đồ án cần giải quyết, và còn có kỳ thi cuối kỳ nữa thành ra thú thật thì bọn em cũng không thể dành được quá nhiều thời gian cho đồ án lần này. Bọn em đã cố gắng hoàn thành tốt nhất có thể theo ý của mình, tuy nhiên chắc chắn còn nhiều thiếu sót. Tiêu biểu là bọn em chưa đào được quá sâu dữ liệu, chưa thực sự khai thác hết tiềm năng dữ liệu và kết hợp nó với kiến thức thực tiễn và cả kiến thức về kinh tế - tài chính nữa, nếu cải thiện được mặt này thì việc phân tích dữ liệu sẽ còn tốt hơn.\n",
    "\n",
    "\n",
    "\n",
    "\n"
   ]
  }
 ],
 "metadata": {
  "kernelspec": {
   "display_name": "Python 3 (ipykernel)",
   "language": "python",
   "name": "python3"
  },
  "language_info": {
   "codemirror_mode": {
    "name": "ipython",
    "version": 3
   },
   "file_extension": ".py",
   "mimetype": "text/x-python",
   "name": "python",
   "nbconvert_exporter": "python",
   "pygments_lexer": "ipython3",
   "version": "3.8.8"
  },
  "toc": {
   "base_numbering": 1,
   "nav_menu": {},
   "number_sections": false,
   "sideBar": true,
   "skip_h1_title": true,
   "title_cell": "Table of Contents",
   "title_sidebar": "Contents",
   "toc_cell": false,
   "toc_position": {
    "height": "calc(100% - 180px)",
    "left": "10px",
    "top": "150px",
    "width": "175px"
   },
   "toc_section_display": true,
   "toc_window_display": true
  }
 },
 "nbformat": 4,
 "nbformat_minor": 4
}
